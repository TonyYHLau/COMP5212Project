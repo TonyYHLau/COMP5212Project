{
  "nbformat": 4,
  "nbformat_minor": 0,
  "metadata": {
    "colab": {
      "name": "Untitled2.ipynb",
      "provenance": []
    },
    "kernelspec": {
      "name": "python3",
      "display_name": "Python 3"
    },
    "language_info": {
      "name": "python"
    }
  },
  "cells": [
    {
      "cell_type": "code",
      "metadata": {
        "id": "Q7GFX4D5mZbE"
      },
      "source": [
        "import pandas as pd\n",
        "import numpy as np\n",
        "import matplotlib.pyplot as plt\n",
        "from matplotlib.pyplot import figure\n",
        "import matplotlib.dates as mdates\n",
        "import scipy.stats as sp\n",
        "import seaborn as sns\n",
        "from scipy.stats.stats import pearsonr\n",
        "from datetime import datetime\n",
        "from sklearn.model_selection import learning_curve\n",
        "from sklearn.model_selection import train_test_split\n",
        "#from sklearn.ensemble import RandomForestRegressor \n",
        "from sklearn.metrics import mean_squared_error\n",
        "from sklearn.metrics import r2_score\n",
        "from sklearn import metrics\n",
        "import statsmodels.api as sm\n",
        "import statsmodels.formula.api as smf\n"
      ],
      "execution_count": 159,
      "outputs": []
    },
    {
      "cell_type": "code",
      "metadata": {
        "colab": {
          "base_uri": "https://localhost:8080/"
        },
        "id": "yLL5TKyGsQIB",
        "outputId": "ee53f629-8bc0-45e5-8972-346a76df73a8"
      },
      "source": [
        "data_er=pd.read_excel(\"Data_COMP5212project.xlsx\",sheet_name=\"ER\",index_col=\"Date\")\n",
        "print(data_er.head(5))\n",
        "#data_eurusd=data_er[\"EUR_USD\"]\n",
        "#data_eurusd=data_er[\"EUR_USD\"]\n",
        "#print(data_eurusd[:5])\n",
        "#print(data_er.index[0])"
      ],
      "execution_count": 160,
      "outputs": [
        {
          "output_type": "stream",
          "text": [
            "            USD_CNY  USD_JPY  EUR_USD  USD_CAD  AUD_USD  USD_CHF  GBP_USD\n",
            "Date                                                                     \n",
            "1999-01-01   8.2778   116.32   1.1366   1.5105   0.6305   1.4160   1.6458\n",
            "1999-02-01   8.2790   119.17   1.1025   1.5080   0.6188   1.4463   1.6030\n",
            "1999-03-01   8.2800   118.86   1.0770   1.5080   0.6347   1.4825   1.6107\n",
            "1999-04-01   8.2790   119.49   1.0570   1.4565   0.6615   1.5255   1.6095\n",
            "1999-05-01   8.2784   121.52   1.0423   1.4739   0.6488   1.5272   1.6030\n"
          ],
          "name": "stdout"
        }
      ]
    },
    {
      "cell_type": "code",
      "metadata": {
        "colab": {
          "base_uri": "https://localhost:8080/"
        },
        "id": "FBIuUjlfs2nx",
        "outputId": "16216d0e-895b-4dae-f238-c2b99ef6c08e"
      },
      "source": [
        "data_v=pd.read_excel(\"Data_COMP5212project.xlsx\",sheet_name=\"Variables\", index_col=\"Date\")\n",
        "print(data_v.head(5))\n",
        "#print(data_v.index[0])\n",
        "#print(data_v[\"EuroStoxx50\"])"
      ],
      "execution_count": 161,
      "outputs": [
        {
          "output_type": "stream",
          "text": [
            "            Shanghai    SP500  Nikkei225  ...  LTINT_AUS  LTINT_CHE  LTINT_GBR\n",
            "Date                                      ...                                 \n",
            "1999-01-01   1134.67  1279.64   14499.25  ...   5.127895      2.555     4.2868\n",
            "1999-02-01   1090.09  1238.33   14367.54  ...   5.300000      2.550     4.4319\n",
            "1999-03-01   1158.05  1286.37   15836.59  ...   5.526522      2.604     4.6554\n",
            "1999-04-01   1120.93  1335.18   16701.53  ...   5.357500      2.534     4.5920\n",
            "1999-05-01   1279.33  1301.84   16111.65  ...   5.875714      2.720     4.9068\n",
            "\n",
            "[5 rows x 34 columns]\n"
          ],
          "name": "stdout"
        }
      ]
    },
    {
      "cell_type": "code",
      "metadata": {
        "id": "eQdeZLBKtAqm"
      },
      "source": [
        "df_all=data_er.join(data_v)"
      ],
      "execution_count": 162,
      "outputs": []
    },
    {
      "cell_type": "code",
      "metadata": {
        "colab": {
          "base_uri": "https://localhost:8080/",
          "height": 338
        },
        "id": "hgGMQkE3p2ym",
        "outputId": "711fb8c8-52c3-4730-fd65-6489b837207a"
      },
      "source": [
        "df_all.tail()\n"
      ],
      "execution_count": 163,
      "outputs": [
        {
          "output_type": "execute_result",
          "data": {
            "text/html": [
              "<div>\n",
              "<style scoped>\n",
              "    .dataframe tbody tr th:only-of-type {\n",
              "        vertical-align: middle;\n",
              "    }\n",
              "\n",
              "    .dataframe tbody tr th {\n",
              "        vertical-align: top;\n",
              "    }\n",
              "\n",
              "    .dataframe thead th {\n",
              "        text-align: right;\n",
              "    }\n",
              "</style>\n",
              "<table border=\"1\" class=\"dataframe\">\n",
              "  <thead>\n",
              "    <tr style=\"text-align: right;\">\n",
              "      <th></th>\n",
              "      <th>USD_CNY</th>\n",
              "      <th>USD_JPY</th>\n",
              "      <th>EUR_USD</th>\n",
              "      <th>USD_CAD</th>\n",
              "      <th>AUD_USD</th>\n",
              "      <th>USD_CHF</th>\n",
              "      <th>GBP_USD</th>\n",
              "      <th>Shanghai</th>\n",
              "      <th>SP500</th>\n",
              "      <th>Nikkei225</th>\n",
              "      <th>EuroStoxx50</th>\n",
              "      <th>SPTSX</th>\n",
              "      <th>SPASX200</th>\n",
              "      <th>SMI</th>\n",
              "      <th>FT100</th>\n",
              "      <th>GoldPrice</th>\n",
              "      <th>BrentOilFutures</th>\n",
              "      <th>CPI_CHN</th>\n",
              "      <th>CPI_USA</th>\n",
              "      <th>CPI_JPN</th>\n",
              "      <th>CPI_EU</th>\n",
              "      <th>CPI_CAN</th>\n",
              "      <th>CPI_AUS</th>\n",
              "      <th>CPI_CHE</th>\n",
              "      <th>CPI_GBR</th>\n",
              "      <th>STINT_CHN</th>\n",
              "      <th>STINT_USA</th>\n",
              "      <th>STINT_JPN</th>\n",
              "      <th>STINT_EA19</th>\n",
              "      <th>STINT_CAN</th>\n",
              "      <th>STINT_AUS</th>\n",
              "      <th>STINT_CHE</th>\n",
              "      <th>STINT_GBR</th>\n",
              "      <th>LTINT_CHN</th>\n",
              "      <th>LTINT_USA</th>\n",
              "      <th>LTINT_JPN</th>\n",
              "      <th>LTINT_EA19</th>\n",
              "      <th>LTINT_CAN</th>\n",
              "      <th>LTINT_AUS</th>\n",
              "      <th>LTINT_CHE</th>\n",
              "      <th>LTINT_GBR</th>\n",
              "    </tr>\n",
              "    <tr>\n",
              "      <th>Date</th>\n",
              "      <th></th>\n",
              "      <th></th>\n",
              "      <th></th>\n",
              "      <th></th>\n",
              "      <th></th>\n",
              "      <th></th>\n",
              "      <th></th>\n",
              "      <th></th>\n",
              "      <th></th>\n",
              "      <th></th>\n",
              "      <th></th>\n",
              "      <th></th>\n",
              "      <th></th>\n",
              "      <th></th>\n",
              "      <th></th>\n",
              "      <th></th>\n",
              "      <th></th>\n",
              "      <th></th>\n",
              "      <th></th>\n",
              "      <th></th>\n",
              "      <th></th>\n",
              "      <th></th>\n",
              "      <th></th>\n",
              "      <th></th>\n",
              "      <th></th>\n",
              "      <th></th>\n",
              "      <th></th>\n",
              "      <th></th>\n",
              "      <th></th>\n",
              "      <th></th>\n",
              "      <th></th>\n",
              "      <th></th>\n",
              "      <th></th>\n",
              "      <th></th>\n",
              "      <th></th>\n",
              "      <th></th>\n",
              "      <th></th>\n",
              "      <th></th>\n",
              "      <th></th>\n",
              "      <th></th>\n",
              "      <th></th>\n",
              "    </tr>\n",
              "  </thead>\n",
              "  <tbody>\n",
              "    <tr>\n",
              "      <th>2020-10-01</th>\n",
              "      <td>6.6927</td>\n",
              "      <td>104.64</td>\n",
              "      <td>1.1647</td>\n",
              "      <td>1.3317</td>\n",
              "      <td>0.7026</td>\n",
              "      <td>0.9167</td>\n",
              "      <td>1.2941</td>\n",
              "      <td>3224.53</td>\n",
              "      <td>3269.96</td>\n",
              "      <td>22977.13</td>\n",
              "      <td>2958.21</td>\n",
              "      <td>15580.64</td>\n",
              "      <td>5927.6</td>\n",
              "      <td>9587.15</td>\n",
              "      <td>5577.27</td>\n",
              "      <td>1892.4</td>\n",
              "      <td>37.46</td>\n",
              "      <td>111.40</td>\n",
              "      <td>109.8605</td>\n",
              "      <td>101.8</td>\n",
              "      <td>105.92</td>\n",
              "      <td>108.6384</td>\n",
              "      <td>NaN</td>\n",
              "      <td>100.5908</td>\n",
              "      <td>109.2</td>\n",
              "      <td>2.9</td>\n",
              "      <td>0.12</td>\n",
              "      <td>-0.055</td>\n",
              "      <td>-0.5091</td>\n",
              "      <td>0.245218</td>\n",
              "      <td>0.07</td>\n",
              "      <td>-0.7666</td>\n",
              "      <td>0.05</td>\n",
              "      <td>NaN</td>\n",
              "      <td>0.79</td>\n",
              "      <td>0.040</td>\n",
              "      <td>0.0005</td>\n",
              "      <td>0.602857</td>\n",
              "      <td>0.82</td>\n",
              "      <td>-0.518</td>\n",
              "      <td>0.3058</td>\n",
              "    </tr>\n",
              "    <tr>\n",
              "      <th>2020-11-01</th>\n",
              "      <td>6.5789</td>\n",
              "      <td>104.27</td>\n",
              "      <td>1.1928</td>\n",
              "      <td>1.3000</td>\n",
              "      <td>0.7345</td>\n",
              "      <td>0.9090</td>\n",
              "      <td>1.3321</td>\n",
              "      <td>3391.76</td>\n",
              "      <td>3621.63</td>\n",
              "      <td>26433.62</td>\n",
              "      <td>3492.54</td>\n",
              "      <td>17190.25</td>\n",
              "      <td>6517.8</td>\n",
              "      <td>10476.43</td>\n",
              "      <td>6266.19</td>\n",
              "      <td>1784.8</td>\n",
              "      <td>47.59</td>\n",
              "      <td>110.70</td>\n",
              "      <td>109.7934</td>\n",
              "      <td>101.3</td>\n",
              "      <td>105.63</td>\n",
              "      <td>108.7964</td>\n",
              "      <td>NaN</td>\n",
              "      <td>100.3412</td>\n",
              "      <td>109.1</td>\n",
              "      <td>2.9</td>\n",
              "      <td>0.16</td>\n",
              "      <td>-0.055</td>\n",
              "      <td>-0.5209</td>\n",
              "      <td>0.237422</td>\n",
              "      <td>0.02</td>\n",
              "      <td>-0.7840</td>\n",
              "      <td>0.04</td>\n",
              "      <td>NaN</td>\n",
              "      <td>0.87</td>\n",
              "      <td>0.030</td>\n",
              "      <td>-0.0553</td>\n",
              "      <td>0.688500</td>\n",
              "      <td>0.87</td>\n",
              "      <td>-0.509</td>\n",
              "      <td>0.3836</td>\n",
              "    </tr>\n",
              "    <tr>\n",
              "      <th>2020-12-01</th>\n",
              "      <td>6.5250</td>\n",
              "      <td>103.24</td>\n",
              "      <td>1.2213</td>\n",
              "      <td>1.2730</td>\n",
              "      <td>0.7694</td>\n",
              "      <td>0.8851</td>\n",
              "      <td>1.3673</td>\n",
              "      <td>3473.07</td>\n",
              "      <td>3756.07</td>\n",
              "      <td>27444.17</td>\n",
              "      <td>3552.64</td>\n",
              "      <td>17433.36</td>\n",
              "      <td>6587.1</td>\n",
              "      <td>10703.51</td>\n",
              "      <td>6460.52</td>\n",
              "      <td>1899.6</td>\n",
              "      <td>51.80</td>\n",
              "      <td>111.50</td>\n",
              "      <td>109.8968</td>\n",
              "      <td>101.1</td>\n",
              "      <td>105.97</td>\n",
              "      <td>108.5594</td>\n",
              "      <td>NaN</td>\n",
              "      <td>100.2407</td>\n",
              "      <td>109.4</td>\n",
              "      <td>2.9</td>\n",
              "      <td>0.17</td>\n",
              "      <td>-0.055</td>\n",
              "      <td>-0.5381</td>\n",
              "      <td>0.235101</td>\n",
              "      <td>0.02</td>\n",
              "      <td>-0.7638</td>\n",
              "      <td>0.03</td>\n",
              "      <td>NaN</td>\n",
              "      <td>0.93</td>\n",
              "      <td>0.020</td>\n",
              "      <td>-0.0915</td>\n",
              "      <td>0.730952</td>\n",
              "      <td>0.98</td>\n",
              "      <td>-0.525</td>\n",
              "      <td>0.3224</td>\n",
              "    </tr>\n",
              "    <tr>\n",
              "      <th>2021-01-01</th>\n",
              "      <td>6.4250</td>\n",
              "      <td>104.68</td>\n",
              "      <td>1.2136</td>\n",
              "      <td>1.2777</td>\n",
              "      <td>0.7642</td>\n",
              "      <td>0.8903</td>\n",
              "      <td>1.3702</td>\n",
              "      <td>3483.07</td>\n",
              "      <td>3714.24</td>\n",
              "      <td>27663.39</td>\n",
              "      <td>3481.44</td>\n",
              "      <td>17337.02</td>\n",
              "      <td>6607.4</td>\n",
              "      <td>10591.06</td>\n",
              "      <td>6407.46</td>\n",
              "      <td>1850.3</td>\n",
              "      <td>55.88</td>\n",
              "      <td>112.55</td>\n",
              "      <td>110.3642</td>\n",
              "      <td>101.6</td>\n",
              "      <td>106.27</td>\n",
              "      <td>109.1915</td>\n",
              "      <td>NaN</td>\n",
              "      <td>100.2961</td>\n",
              "      <td>109.3</td>\n",
              "      <td>2.9</td>\n",
              "      <td>0.14</td>\n",
              "      <td>-0.055</td>\n",
              "      <td>-0.5472</td>\n",
              "      <td>0.197896</td>\n",
              "      <td>0.01</td>\n",
              "      <td>-0.7600</td>\n",
              "      <td>0.03</td>\n",
              "      <td>NaN</td>\n",
              "      <td>1.08</td>\n",
              "      <td>0.055</td>\n",
              "      <td>-0.0636</td>\n",
              "      <td>0.805500</td>\n",
              "      <td>1.05</td>\n",
              "      <td>-0.450</td>\n",
              "      <td>0.3672</td>\n",
              "    </tr>\n",
              "    <tr>\n",
              "      <th>2021-02-01</th>\n",
              "      <td>6.4730</td>\n",
              "      <td>106.58</td>\n",
              "      <td>1.2074</td>\n",
              "      <td>1.2739</td>\n",
              "      <td>0.7705</td>\n",
              "      <td>0.9082</td>\n",
              "      <td>1.3932</td>\n",
              "      <td>3509.08</td>\n",
              "      <td>3811.15</td>\n",
              "      <td>28966.01</td>\n",
              "      <td>3636.44</td>\n",
              "      <td>18060.26</td>\n",
              "      <td>6673.3</td>\n",
              "      <td>10522.22</td>\n",
              "      <td>6483.43</td>\n",
              "      <td>1728.8</td>\n",
              "      <td>66.13</td>\n",
              "      <td>NaN</td>\n",
              "      <td>NaN</td>\n",
              "      <td>NaN</td>\n",
              "      <td>NaN</td>\n",
              "      <td>NaN</td>\n",
              "      <td>NaN</td>\n",
              "      <td>100.4610</td>\n",
              "      <td>NaN</td>\n",
              "      <td>NaN</td>\n",
              "      <td>0.11</td>\n",
              "      <td>NaN</td>\n",
              "      <td>-0.5417</td>\n",
              "      <td>0.178039</td>\n",
              "      <td>0.01</td>\n",
              "      <td>-0.7500</td>\n",
              "      <td>0.05</td>\n",
              "      <td>NaN</td>\n",
              "      <td>1.26</td>\n",
              "      <td>0.150</td>\n",
              "      <td>0.0668</td>\n",
              "      <td>1.099474</td>\n",
              "      <td>1.32</td>\n",
              "      <td>-0.230</td>\n",
              "      <td>NaN</td>\n",
              "    </tr>\n",
              "  </tbody>\n",
              "</table>\n",
              "</div>"
            ],
            "text/plain": [
              "            USD_CNY  USD_JPY  EUR_USD  ...  LTINT_AUS  LTINT_CHE  LTINT_GBR\n",
              "Date                                   ...                                 \n",
              "2020-10-01   6.6927   104.64   1.1647  ...       0.82     -0.518     0.3058\n",
              "2020-11-01   6.5789   104.27   1.1928  ...       0.87     -0.509     0.3836\n",
              "2020-12-01   6.5250   103.24   1.2213  ...       0.98     -0.525     0.3224\n",
              "2021-01-01   6.4250   104.68   1.2136  ...       1.05     -0.450     0.3672\n",
              "2021-02-01   6.4730   106.58   1.2074  ...       1.32     -0.230        NaN\n",
              "\n",
              "[5 rows x 41 columns]"
            ]
          },
          "metadata": {
            "tags": []
          },
          "execution_count": 163
        }
      ]
    },
    {
      "cell_type": "code",
      "metadata": {
        "id": "UmpeLfckqMwG"
      },
      "source": [
        "results = smf.ols('EUR_USD ~  SP500.diff(1) + EuroStoxx50.diff(1) + GoldPrice.diff(1) + BrentOilFutures.diff(1) + CPI_USA.diff(1) + CPI_EU.diff(1) + STINT_USA + STINT_EA19 + LTINT_USA + LTINT_EA19', data=df_all).fit()"
      ],
      "execution_count": 164,
      "outputs": []
    },
    {
      "cell_type": "code",
      "metadata": {
        "colab": {
          "base_uri": "https://localhost:8080/"
        },
        "id": "bCdi7sTZqSbf",
        "outputId": "0db39e7c-81b0-4f95-aa95-cb1d86f7a590"
      },
      "source": [
        "print(results.summary())"
      ],
      "execution_count": 165,
      "outputs": [
        {
          "output_type": "stream",
          "text": [
            "                            OLS Regression Results                            \n",
            "==============================================================================\n",
            "Dep. Variable:                EUR_USD   R-squared:                       0.676\n",
            "Model:                            OLS   Adj. R-squared:                  0.659\n",
            "Method:                 Least Squares   F-statistic:                     41.09\n",
            "Date:                Sat, 27 Mar 2021   Prob (F-statistic):           5.80e-43\n",
            "Time:                        16:41:09   Log-Likelihood:                 259.27\n",
            "No. Observations:                 208   AIC:                            -496.5\n",
            "Df Residuals:                     197   BIC:                            -459.8\n",
            "Df Model:                          10                                         \n",
            "Covariance Type:            nonrobust                                         \n",
            "===========================================================================================\n",
            "                              coef    std err          t      P>|t|      [0.025      0.975]\n",
            "-------------------------------------------------------------------------------------------\n",
            "Intercept                   1.1779      0.019     62.773      0.000       1.141       1.215\n",
            "SP500.diff(1)               0.0001   9.78e-05      1.197      0.233   -7.58e-05       0.000\n",
            "EuroStoxx50.diff(1)     -4.749e-05   5.12e-05     -0.928      0.355      -0.000    5.34e-05\n",
            "GoldPrice.diff(1)        2.813e-05   8.93e-05      0.315      0.753      -0.000       0.000\n",
            "BrentOilFutures.diff(1)     0.0010      0.001      1.050      0.295      -0.001       0.003\n",
            "CPI_USA.diff(1)             0.0381      0.017      2.303      0.022       0.005       0.071\n",
            "CPI_EU.diff(1)             -0.0022      0.014     -0.160      0.873      -0.029       0.025\n",
            "STINT_USA                  -0.0128      0.007     -1.747      0.082      -0.027       0.002\n",
            "STINT_EA19                  0.0323      0.009      3.707      0.000       0.015       0.050\n",
            "LTINT_USA                  -0.0347      0.011     -3.145      0.002      -0.057      -0.013\n",
            "LTINT_EA19                  0.0595      0.009      6.300      0.000       0.041       0.078\n",
            "==============================================================================\n",
            "Omnibus:                        5.330   Durbin-Watson:                   0.276\n",
            "Prob(Omnibus):                  0.070   Jarque-Bera (JB):                3.060\n",
            "Skew:                          -0.006   Prob(JB):                        0.216\n",
            "Kurtosis:                       2.406   Cond. No.                         664.\n",
            "==============================================================================\n",
            "\n",
            "Warnings:\n",
            "[1] Standard Errors assume that the covariance matrix of the errors is correctly specified.\n"
          ],
          "name": "stdout"
        }
      ]
    },
    {
      "cell_type": "code",
      "metadata": {
        "colab": {
          "base_uri": "https://localhost:8080/",
          "height": 281
        },
        "id": "20zZ2CT9w6pN",
        "outputId": "cc218fe7-86a5-4735-9c95-ddc145639ead"
      },
      "source": [
        "plt.plot(df_all[\"EUR_USD\"]/df_all[\"EUR_USD\"][0])\n",
        "#plt.plot(df_all[\"SP500\"]/df_all[\"SP500\"][0])\n",
        "#plt.plot(df_all[\"EuroStoxx50\"]/df_all[\"EuroStoxx50\"][0])\n",
        "#plt.plot(df_all[\"BrentOilFutures\"]/df_all[\"BrentOilFutures\"][0])\n",
        "#plt.plot(df_all[\"CPI_USA\"]/df_all[\"CPI_USA\"][0])\n",
        "#plt.plot(df_all[\"GoldPrice\"]/df_all[\"GoldPrice\"][0])"
      ],
      "execution_count": 166,
      "outputs": [
        {
          "output_type": "execute_result",
          "data": {
            "text/plain": [
              "[<matplotlib.lines.Line2D at 0x7f241203bdd0>]"
            ]
          },
          "metadata": {
            "tags": []
          },
          "execution_count": 166
        },
        {
          "output_type": "display_data",
          "data": {
            "image/png": "[encoded data removed]",
            "text/plain": [
              "<Figure size 432x288 with 1 Axes>"
            ]
          },
          "metadata": {
            "tags": [],
            "needs_background": "light"
          }
        }
      ]
    },
    {
      "cell_type": "code",
      "metadata": {
        "colab": {
          "base_uri": "https://localhost:8080/"
        },
        "id": "vaubBlgl0s2F",
        "outputId": "30bcb4b8-c62b-4fe8-b880-c40bbc347699"
      },
      "source": [
        "results = smf.ols('EUR_USD ~  SP500 + EuroStoxx50 + GoldPrice + BrentOilFutures + CPI_USA + CPI_EU + STINT_USA + STINT_EA19 + LTINT_USA + LTINT_EA19', data=df_all).fit()\n",
        "print(results.summary())"
      ],
      "execution_count": 167,
      "outputs": [
        {
          "output_type": "stream",
          "text": [
            "                            OLS Regression Results                            \n",
            "==============================================================================\n",
            "Dep. Variable:                EUR_USD   R-squared:                       0.825\n",
            "Model:                            OLS   Adj. R-squared:                  0.817\n",
            "Method:                 Least Squares   F-statistic:                     93.66\n",
            "Date:                Sat, 27 Mar 2021   Prob (F-statistic):           1.80e-69\n",
            "Time:                        16:41:09   Log-Likelihood:                 325.41\n",
            "No. Observations:                 209   AIC:                            -628.8\n",
            "Df Residuals:                     198   BIC:                            -592.0\n",
            "Df Model:                          10                                         \n",
            "Covariance Type:            nonrobust                                         \n",
            "===================================================================================\n",
            "                      coef    std err          t      P>|t|      [0.025      0.975]\n",
            "-----------------------------------------------------------------------------------\n",
            "Intercept           1.2019      0.194      6.205      0.000       0.820       1.584\n",
            "SP500           -8.194e-06   2.04e-05     -0.401      0.689   -4.85e-05    3.21e-05\n",
            "EuroStoxx50      4.523e-05   1.56e-05      2.899      0.004    1.45e-05     7.6e-05\n",
            "GoldPrice       -5.885e-06   3.84e-05     -0.153      0.878   -8.15e-05    6.97e-05\n",
            "BrentOilFutures     0.0020      0.000      7.336      0.000       0.001       0.003\n",
            "CPI_USA             0.0281      0.007      4.257      0.000       0.015       0.041\n",
            "CPI_EU             -0.0313      0.007     -4.216      0.000      -0.046      -0.017\n",
            "STINT_USA          -0.0319      0.006     -5.507      0.000      -0.043      -0.020\n",
            "STINT_EA19          0.0245      0.009      2.640      0.009       0.006       0.043\n",
            "LTINT_USA          -0.0137      0.018     -0.743      0.459      -0.050       0.023\n",
            "LTINT_EA19          0.0561      0.015      3.784      0.000       0.027       0.085\n",
            "==============================================================================\n",
            "Omnibus:                        6.036   Durbin-Watson:                   0.530\n",
            "Prob(Omnibus):                  0.049   Jarque-Bera (JB):                5.685\n",
            "Skew:                           0.373   Prob(JB):                       0.0583\n",
            "Kurtosis:                       3.309   Cond. No.                     2.06e+05\n",
            "==============================================================================\n",
            "\n",
            "Warnings:\n",
            "[1] Standard Errors assume that the covariance matrix of the errors is correctly specified.\n",
            "[2] The condition number is large, 2.06e+05. This might indicate that there are\n",
            "strong multicollinearity or other numerical problems.\n"
          ],
          "name": "stdout"
        }
      ]
    },
    {
      "cell_type": "code",
      "metadata": {
        "colab": {
          "base_uri": "https://localhost:8080/",
          "height": 233
        },
        "id": "V0j1JXpJ01u7",
        "outputId": "4505e429-6087-490c-abf4-a1463ddeb292"
      },
      "source": [
        "df_usdeu=df_all[['EUR_USD', 'SP500', 'EuroStoxx50','GoldPrice', 'BrentOilFutures', 'CPI_USA', 'CPI_EU', 'STINT_USA', 'STINT_EA19', 'LTINT_USA', 'LTINT_EA19']]\n",
        "df_usdeu.tail()"
      ],
      "execution_count": 168,
      "outputs": [
        {
          "output_type": "execute_result",
          "data": {
            "text/html": [
              "<div>\n",
              "<style scoped>\n",
              "    .dataframe tbody tr th:only-of-type {\n",
              "        vertical-align: middle;\n",
              "    }\n",
              "\n",
              "    .dataframe tbody tr th {\n",
              "        vertical-align: top;\n",
              "    }\n",
              "\n",
              "    .dataframe thead th {\n",
              "        text-align: right;\n",
              "    }\n",
              "</style>\n",
              "<table border=\"1\" class=\"dataframe\">\n",
              "  <thead>\n",
              "    <tr style=\"text-align: right;\">\n",
              "      <th></th>\n",
              "      <th>EUR_USD</th>\n",
              "      <th>SP500</th>\n",
              "      <th>EuroStoxx50</th>\n",
              "      <th>GoldPrice</th>\n",
              "      <th>BrentOilFutures</th>\n",
              "      <th>CPI_USA</th>\n",
              "      <th>CPI_EU</th>\n",
              "      <th>STINT_USA</th>\n",
              "      <th>STINT_EA19</th>\n",
              "      <th>LTINT_USA</th>\n",
              "      <th>LTINT_EA19</th>\n",
              "    </tr>\n",
              "    <tr>\n",
              "      <th>Date</th>\n",
              "      <th></th>\n",
              "      <th></th>\n",
              "      <th></th>\n",
              "      <th></th>\n",
              "      <th></th>\n",
              "      <th></th>\n",
              "      <th></th>\n",
              "      <th></th>\n",
              "      <th></th>\n",
              "      <th></th>\n",
              "      <th></th>\n",
              "    </tr>\n",
              "  </thead>\n",
              "  <tbody>\n",
              "    <tr>\n",
              "      <th>2020-10-01</th>\n",
              "      <td>1.1647</td>\n",
              "      <td>3269.96</td>\n",
              "      <td>2958.21</td>\n",
              "      <td>1892.4</td>\n",
              "      <td>37.46</td>\n",
              "      <td>109.8605</td>\n",
              "      <td>105.92</td>\n",
              "      <td>0.12</td>\n",
              "      <td>-0.5091</td>\n",
              "      <td>0.79</td>\n",
              "      <td>0.0005</td>\n",
              "    </tr>\n",
              "    <tr>\n",
              "      <th>2020-11-01</th>\n",
              "      <td>1.1928</td>\n",
              "      <td>3621.63</td>\n",
              "      <td>3492.54</td>\n",
              "      <td>1784.8</td>\n",
              "      <td>47.59</td>\n",
              "      <td>109.7934</td>\n",
              "      <td>105.63</td>\n",
              "      <td>0.16</td>\n",
              "      <td>-0.5209</td>\n",
              "      <td>0.87</td>\n",
              "      <td>-0.0553</td>\n",
              "    </tr>\n",
              "    <tr>\n",
              "      <th>2020-12-01</th>\n",
              "      <td>1.2213</td>\n",
              "      <td>3756.07</td>\n",
              "      <td>3552.64</td>\n",
              "      <td>1899.6</td>\n",
              "      <td>51.80</td>\n",
              "      <td>109.8968</td>\n",
              "      <td>105.97</td>\n",
              "      <td>0.17</td>\n",
              "      <td>-0.5381</td>\n",
              "      <td>0.93</td>\n",
              "      <td>-0.0915</td>\n",
              "    </tr>\n",
              "    <tr>\n",
              "      <th>2021-01-01</th>\n",
              "      <td>1.2136</td>\n",
              "      <td>3714.24</td>\n",
              "      <td>3481.44</td>\n",
              "      <td>1850.3</td>\n",
              "      <td>55.88</td>\n",
              "      <td>110.3642</td>\n",
              "      <td>106.27</td>\n",
              "      <td>0.14</td>\n",
              "      <td>-0.5472</td>\n",
              "      <td>1.08</td>\n",
              "      <td>-0.0636</td>\n",
              "    </tr>\n",
              "    <tr>\n",
              "      <th>2021-02-01</th>\n",
              "      <td>1.2074</td>\n",
              "      <td>3811.15</td>\n",
              "      <td>3636.44</td>\n",
              "      <td>1728.8</td>\n",
              "      <td>66.13</td>\n",
              "      <td>NaN</td>\n",
              "      <td>NaN</td>\n",
              "      <td>0.11</td>\n",
              "      <td>-0.5417</td>\n",
              "      <td>1.26</td>\n",
              "      <td>0.0668</td>\n",
              "    </tr>\n",
              "  </tbody>\n",
              "</table>\n",
              "</div>"
            ],
            "text/plain": [
              "            EUR_USD    SP500  EuroStoxx50  ...  STINT_EA19  LTINT_USA  LTINT_EA19\n",
              "Date                                       ...                                   \n",
              "2020-10-01   1.1647  3269.96      2958.21  ...     -0.5091       0.79      0.0005\n",
              "2020-11-01   1.1928  3621.63      3492.54  ...     -0.5209       0.87     -0.0553\n",
              "2020-12-01   1.2213  3756.07      3552.64  ...     -0.5381       0.93     -0.0915\n",
              "2021-01-01   1.2136  3714.24      3481.44  ...     -0.5472       1.08     -0.0636\n",
              "2021-02-01   1.2074  3811.15      3636.44  ...     -0.5417       1.26      0.0668\n",
              "\n",
              "[5 rows x 11 columns]"
            ]
          },
          "metadata": {
            "tags": []
          },
          "execution_count": 168
        }
      ]
    },
    {
      "cell_type": "code",
      "metadata": {
        "colab": {
          "base_uri": "https://localhost:8080/",
          "height": 369
        },
        "id": "EEOmj-0EAaiN",
        "outputId": "6a56da19-4215-4a61-b101-5cd61d0e97e0"
      },
      "source": [
        "df_usdeu.dropna(inplace=True)\n",
        "usdeu_y=df_usdeu['EUR_USD']\n",
        "usdeu_x=df_usdeu.drop('EUR_USD', axis=1)\n",
        "usdeu_x_train, usdeu_x_test, usdeu_y_train, usdeu_y_test = train_test_split(usdeu_x, usdeu_y, test_size = 0.3, shuffle=False )\n",
        "\n",
        "#print(len(usdeu_x_train))\n",
        "#print(len(usdeu_x_test))\n",
        "#print(len(usdeu_y_train))\n",
        "#print(len(usdeu_y_test))\n",
        "\n",
        "#train OLS \n",
        "from sklearn.linear_model import LinearRegression\n",
        "\n",
        "linReg = LinearRegression().fit(usdeu_x_train, usdeu_y_train)\n",
        "#print(linReg.coef_)\n",
        "#print(linReg.intercept_)\n",
        "pred_lin_0 = linReg.predict(usdeu_x_test)\n",
        "\n",
        "pred_lin_0=pd.Series(pred_lin_0,index=usdeu_y_test.index)\n",
        "plt.plot(pred_lin_0)\n",
        "plt.plot(usdeu_y_test)\n",
        "plt.legend([\"pred\",\"actual\"])\n",
        "plt.show()"
      ],
      "execution_count": 169,
      "outputs": [
        {
          "output_type": "stream",
          "text": [
            "/usr/local/lib/python3.7/dist-packages/ipykernel_launcher.py:1: SettingWithCopyWarning: \n",
            "A value is trying to be set on a copy of a slice from a DataFrame\n",
            "\n",
            "See the caveats in the documentation: https://pandas.pydata.org/pandas-docs/stable/user_guide/indexing.html#returning-a-view-versus-a-copy\n",
            "  \"\"\"Entry point for launching an IPython kernel.\n"
          ],
          "name": "stderr"
        },
        {
          "output_type": "display_data",
          "data": {
            "image/png": "[encoded data removed]",
            "text/plain": [
              "<Figure size 432x288 with 1 Axes>"
            ]
          },
          "metadata": {
            "tags": [],
            "needs_background": "light"
          }
        }
      ]
    },
    {
      "cell_type": "code",
      "metadata": {
        "colab": {
          "base_uri": "https://localhost:8080/",
          "height": 402
        },
        "id": "MmOP1ZXPQD_a",
        "outputId": "cee8c8ab-0549-400b-c871-b1fc14b9c957"
      },
      "source": [
        "#one-step ahead predictions for recursive linear regression\n",
        "\n",
        "df_len=len(df_usdeu)\n",
        "#print(df_len)\n",
        "test_size=0.3\n",
        "start_pred_pos = int(df_len*(1-test_size))\n",
        "#print(start_pred_pos)\n",
        "lin_preds_1=[]\n",
        "for i in range(start_pred_pos, df_len):\n",
        "  #print(i)\n",
        "  linReg = LinearRegression().fit(df_usdeu[:i], usdeu_y[1:i+1])\n",
        "  #print(df_usdeu[:i])\n",
        "  #print(len(df_usdeu[:i]))\n",
        "  lin_pred = linReg.predict(df_usdeu[i:i+1])\n",
        "  #print(\"+1 \", df_usdeu[i:i+1])\n",
        "  lin_preds_1.append(lin_pred)\n",
        "lin_preds_1=pd.Series(lin_preds_1,index=usdeu_y_test.index)\n",
        "print(len(lin_preds_1))\n",
        "plt.plot(lin_preds_1)\n",
        "plt.plot(usdeu_y_test)\n",
        "plt.legend([\"pred\",\"actual\"])\n",
        "plt.show()\n",
        "errors=lin_preds_1-usdeu_y_test\n",
        "AE=abs(errors)\n",
        "\n",
        "print('MAE:', metrics.mean_absolute_error(usdeu_y_test, lin_preds_1))\n",
        "print('MSE:', metrics.mean_squared_error(usdeu_y_test, lin_preds_1))\n",
        "print('RMSE:', np.sqrt(metrics.mean_squared_error(usdeu_y_test, lin_preds_1)))\n",
        "print ('R-squared: ',metrics.r2_score(usdeu_y_test, lin_preds_1)) \n",
        "\n",
        "# Calculate mean absolute percentage error (MAPE)\n",
        "mape = 100 * (AE / usdeu_y_test)\n",
        "# Calculate and display accuracy\n",
        "accuracy = 100 - np.mean(mape)\n",
        "print('Accuracy:', np.round(accuracy, 2)[0], '%.')"
      ],
      "execution_count": 174,
      "outputs": [
        {
          "output_type": "stream",
          "text": [
            "209\n",
            "146\n",
            "63\n"
          ],
          "name": "stdout"
        },
        {
          "output_type": "display_data",
          "data": {
            "image/png": "[encoded data removed]",
            "text/plain": [
              "<Figure size 432x288 with 1 Axes>"
            ]
          },
          "metadata": {
            "tags": [],
            "needs_background": "light"
          }
        },
        {
          "output_type": "stream",
          "text": [
            "MAE: 0.015524649001748238\n",
            "MSE: 0.0003960398869198849\n",
            "RMSE: 0.019900750913467685\n",
            "R-squared:  0.8162229991397864\n",
            "Accuracy: 98.64 %.\n"
          ],
          "name": "stdout"
        }
      ]
    },
    {
      "cell_type": "code",
      "metadata": {
        "colab": {
          "base_uri": "https://localhost:8080/"
        },
        "id": "FKQKN-tQZ21I",
        "outputId": "ececc501-fa71-42aa-c694-2f88ba70a8fe"
      },
      "source": [
        "  linReg = LinearRegression().fit(df_usdeu[0:208], usdeu_y[1:209])\n",
        "  #print(df_usdeu[:i])\n",
        "  #print(len(df_usdeu[:i]))\n",
        "  lin_pred = linReg.predict(df_usdeu[208:209])\n",
        "  print(\"predict ER on 2021-02-01:\", lin_pred)\n",
        "  print(df_all[-1:][\"EUR_USD\"])\n"
      ],
      "execution_count": 184,
      "outputs": [
        {
          "output_type": "stream",
          "text": [
            "predict ER on 2021-02-01: [1.19926707]\n",
            "Date\n",
            "2021-02-01    1.2074\n",
            "Name: EUR_USD, dtype: float64\n"
          ],
          "name": "stdout"
        }
      ]
    }
  ]
}