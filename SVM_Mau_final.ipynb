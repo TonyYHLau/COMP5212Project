{
  "nbformat": 4,
  "nbformat_minor": 0,
  "metadata": {
    "colab": {
      "name": "「「Untitled2.ipynb」的副本」的副本",
      "provenance": []
    },
    "kernelspec": {
      "display_name": "Python 3",
      "language": "python",
      "name": "python3"
    },
    "language_info": {
      "codemirror_mode": {
        "name": "ipython",
        "version": 3
      },
      "file_extension": ".py",
      "mimetype": "text/x-python",
      "name": "python",
      "nbconvert_exporter": "python",
      "pygments_lexer": "ipython3",
      "version": "3.7.9"
    }
  },
  "cells": [
    {
      "cell_type": "code",
      "metadata": {
        "id": "Q7GFX4D5mZbE"
      },
      "source": [
        "import pandas as pd\n",
        "import numpy as np\n",
        "import matplotlib.pyplot as plt\n",
        "from matplotlib.pyplot import figure\n",
        "import matplotlib.dates as mdates\n",
        "import scipy.stats as sp\n",
        "import seaborn as sns\n",
        "from scipy.stats.stats import pearsonr\n",
        "from datetime import datetime\n",
        "from sklearn.model_selection import learning_curve\n",
        "from sklearn.model_selection import train_test_split\n",
        "#from sklearn.ensemble import RandomForestRegressor \n",
        "from sklearn.metrics import mean_squared_error\n",
        "from sklearn.metrics import r2_score\n",
        "from sklearn import metrics\n",
        "import statsmodels.api as sm\n",
        "import statsmodels.formula.api as smf\n"
      ],
      "execution_count": null,
      "outputs": []
    },
    {
      "cell_type": "code",
      "metadata": {
        "colab": {
          "base_uri": "https://localhost:8080/"
        },
        "id": "yLL5TKyGsQIB",
        "scrolled": true,
        "outputId": "d284db88-1e02-4deb-9f21-4e996edf699a"
      },
      "source": [
        "data_er=pd.read_excel(\"Data_COMP5212project.xlsx\",sheet_name=\"ER\",index_col=\"Date\", engine='openpyxl')\n",
        "print(data_er.head(5))\n",
        "#data_eurusd=data_er[\"EUR_USD\"]\n",
        "#data_eurusd=data_er[\"EUR_USD\"]\n",
        "#print(data_eurusd[:5])\n",
        "#print(data_er.index[0])"
      ],
      "execution_count": null,
      "outputs": [
        {
          "output_type": "stream",
          "text": [
            "            USD_CNY  USD_JPY  EUR_USD  USD_CAD  AUD_USD  USD_CHF  GBP_USD\n",
            "Date                                                                     \n",
            "1999-01-01   8.2778   116.32   1.1366   1.5105   0.6305   1.4160   1.6458\n",
            "1999-02-01   8.2790   119.17   1.1025   1.5080   0.6188   1.4463   1.6030\n",
            "1999-03-01   8.2800   118.86   1.0770   1.5080   0.6347   1.4825   1.6107\n",
            "1999-04-01   8.2790   119.49   1.0570   1.4565   0.6615   1.5255   1.6095\n",
            "1999-05-01   8.2784   121.52   1.0423   1.4739   0.6488   1.5272   1.6030\n"
          ],
          "name": "stdout"
        }
      ]
    },
    {
      "cell_type": "code",
      "metadata": {
        "colab": {
          "base_uri": "https://localhost:8080/"
        },
        "id": "FBIuUjlfs2nx",
        "outputId": "07ff2eca-0b7b-403a-e112-1a81bf5049e4"
      },
      "source": [
        "data_v=pd.read_excel(\"Data_COMP5212project.xlsx\",sheet_name=\"Variables\", index_col=\"Date\", engine='openpyxl')\n",
        "print(data_v.head(5))\n",
        "#print(data_v.index[0])\n",
        "#print(data_v[\"EuroStoxx50\"])"
      ],
      "execution_count": null,
      "outputs": [
        {
          "output_type": "stream",
          "text": [
            "            Shanghai    SP500  Nikkei225  ...  LTINT_AUS  LTINT_CHE  LTINT_GBR\n",
            "Date                                      ...                                 \n",
            "1999-01-01   1134.67  1279.64   14499.25  ...   5.127895      2.555     4.2868\n",
            "1999-02-01   1090.09  1238.33   14367.54  ...   5.300000      2.550     4.4319\n",
            "1999-03-01   1158.05  1286.37   15836.59  ...   5.526522      2.604     4.6554\n",
            "1999-04-01   1120.93  1335.18   16701.53  ...   5.357500      2.534     4.5920\n",
            "1999-05-01   1279.33  1301.84   16111.65  ...   5.875714      2.720     4.9068\n",
            "\n",
            "[5 rows x 34 columns]\n"
          ],
          "name": "stdout"
        }
      ]
    },
    {
      "cell_type": "code",
      "metadata": {
        "id": "eQdeZLBKtAqm"
      },
      "source": [
        "df_all=data_er.join(data_v)"
      ],
      "execution_count": null,
      "outputs": []
    },
    {
      "cell_type": "code",
      "metadata": {
        "colab": {
          "base_uri": "https://localhost:8080/",
          "height": 340
        },
        "id": "hgGMQkE3p2ym",
        "scrolled": true,
        "outputId": "c696d04b-5512-4ca7-8ba5-c6954052462e"
      },
      "source": [
        "df_all.tail()"
      ],
      "execution_count": null,
      "outputs": [
        {
          "output_type": "execute_result",
          "data": {
            "text/html": [
              "<div>\n",
              "<style scoped>\n",
              "    .dataframe tbody tr th:only-of-type {\n",
              "        vertical-align: middle;\n",
              "    }\n",
              "\n",
              "    .dataframe tbody tr th {\n",
              "        vertical-align: top;\n",
              "    }\n",
              "\n",
              "    .dataframe thead th {\n",
              "        text-align: right;\n",
              "    }\n",
              "</style>\n",
              "<table border=\"1\" class=\"dataframe\">\n",
              "  <thead>\n",
              "    <tr style=\"text-align: right;\">\n",
              "      <th></th>\n",
              "      <th>USD_CNY</th>\n",
              "      <th>USD_JPY</th>\n",
              "      <th>EUR_USD</th>\n",
              "      <th>USD_CAD</th>\n",
              "      <th>AUD_USD</th>\n",
              "      <th>USD_CHF</th>\n",
              "      <th>GBP_USD</th>\n",
              "      <th>Shanghai</th>\n",
              "      <th>SP500</th>\n",
              "      <th>Nikkei225</th>\n",
              "      <th>EuroStoxx50</th>\n",
              "      <th>SPTSX</th>\n",
              "      <th>SPASX200</th>\n",
              "      <th>SMI</th>\n",
              "      <th>FT100</th>\n",
              "      <th>GoldPrice</th>\n",
              "      <th>BrentOilFutures</th>\n",
              "      <th>CPI_CHN</th>\n",
              "      <th>CPI_USA</th>\n",
              "      <th>CPI_JPN</th>\n",
              "      <th>CPI_EU</th>\n",
              "      <th>CPI_CAN</th>\n",
              "      <th>CPI_AUS</th>\n",
              "      <th>CPI_CHE</th>\n",
              "      <th>CPI_GBR</th>\n",
              "      <th>STINT_CHN</th>\n",
              "      <th>STINT_USA</th>\n",
              "      <th>STINT_JPN</th>\n",
              "      <th>STINT_EA19</th>\n",
              "      <th>STINT_CAN</th>\n",
              "      <th>STINT_AUS</th>\n",
              "      <th>STINT_CHE</th>\n",
              "      <th>STINT_GBR</th>\n",
              "      <th>LTINT_CHN</th>\n",
              "      <th>LTINT_USA</th>\n",
              "      <th>LTINT_JPN</th>\n",
              "      <th>LTINT_EA19</th>\n",
              "      <th>LTINT_CAN</th>\n",
              "      <th>LTINT_AUS</th>\n",
              "      <th>LTINT_CHE</th>\n",
              "      <th>LTINT_GBR</th>\n",
              "    </tr>\n",
              "    <tr>\n",
              "      <th>Date</th>\n",
              "      <th></th>\n",
              "      <th></th>\n",
              "      <th></th>\n",
              "      <th></th>\n",
              "      <th></th>\n",
              "      <th></th>\n",
              "      <th></th>\n",
              "      <th></th>\n",
              "      <th></th>\n",
              "      <th></th>\n",
              "      <th></th>\n",
              "      <th></th>\n",
              "      <th></th>\n",
              "      <th></th>\n",
              "      <th></th>\n",
              "      <th></th>\n",
              "      <th></th>\n",
              "      <th></th>\n",
              "      <th></th>\n",
              "      <th></th>\n",
              "      <th></th>\n",
              "      <th></th>\n",
              "      <th></th>\n",
              "      <th></th>\n",
              "      <th></th>\n",
              "      <th></th>\n",
              "      <th></th>\n",
              "      <th></th>\n",
              "      <th></th>\n",
              "      <th></th>\n",
              "      <th></th>\n",
              "      <th></th>\n",
              "      <th></th>\n",
              "      <th></th>\n",
              "      <th></th>\n",
              "      <th></th>\n",
              "      <th></th>\n",
              "      <th></th>\n",
              "      <th></th>\n",
              "      <th></th>\n",
              "      <th></th>\n",
              "    </tr>\n",
              "  </thead>\n",
              "  <tbody>\n",
              "    <tr>\n",
              "      <th>2020-10-01</th>\n",
              "      <td>6.6927</td>\n",
              "      <td>104.64</td>\n",
              "      <td>1.1647</td>\n",
              "      <td>1.3317</td>\n",
              "      <td>0.7026</td>\n",
              "      <td>0.9167</td>\n",
              "      <td>1.2941</td>\n",
              "      <td>3224.53</td>\n",
              "      <td>3269.96</td>\n",
              "      <td>22977.13</td>\n",
              "      <td>2958.21</td>\n",
              "      <td>15580.64</td>\n",
              "      <td>5927.6</td>\n",
              "      <td>9587.15</td>\n",
              "      <td>5577.27</td>\n",
              "      <td>1892.4</td>\n",
              "      <td>37.46</td>\n",
              "      <td>111.40</td>\n",
              "      <td>109.8605</td>\n",
              "      <td>101.8</td>\n",
              "      <td>105.92</td>\n",
              "      <td>108.6384</td>\n",
              "      <td>NaN</td>\n",
              "      <td>100.5908</td>\n",
              "      <td>109.2</td>\n",
              "      <td>2.9</td>\n",
              "      <td>0.12</td>\n",
              "      <td>-0.055</td>\n",
              "      <td>-0.5091</td>\n",
              "      <td>0.245218</td>\n",
              "      <td>0.07</td>\n",
              "      <td>-0.7666</td>\n",
              "      <td>0.05</td>\n",
              "      <td>NaN</td>\n",
              "      <td>0.79</td>\n",
              "      <td>0.040</td>\n",
              "      <td>0.0005</td>\n",
              "      <td>0.602857</td>\n",
              "      <td>0.82</td>\n",
              "      <td>-0.518</td>\n",
              "      <td>0.3058</td>\n",
              "    </tr>\n",
              "    <tr>\n",
              "      <th>2020-11-01</th>\n",
              "      <td>6.5789</td>\n",
              "      <td>104.27</td>\n",
              "      <td>1.1928</td>\n",
              "      <td>1.3000</td>\n",
              "      <td>0.7345</td>\n",
              "      <td>0.9090</td>\n",
              "      <td>1.3321</td>\n",
              "      <td>3391.76</td>\n",
              "      <td>3621.63</td>\n",
              "      <td>26433.62</td>\n",
              "      <td>3492.54</td>\n",
              "      <td>17190.25</td>\n",
              "      <td>6517.8</td>\n",
              "      <td>10476.43</td>\n",
              "      <td>6266.19</td>\n",
              "      <td>1784.8</td>\n",
              "      <td>47.59</td>\n",
              "      <td>110.70</td>\n",
              "      <td>109.7934</td>\n",
              "      <td>101.3</td>\n",
              "      <td>105.63</td>\n",
              "      <td>108.7964</td>\n",
              "      <td>NaN</td>\n",
              "      <td>100.3412</td>\n",
              "      <td>109.1</td>\n",
              "      <td>2.9</td>\n",
              "      <td>0.16</td>\n",
              "      <td>-0.055</td>\n",
              "      <td>-0.5209</td>\n",
              "      <td>0.237422</td>\n",
              "      <td>0.02</td>\n",
              "      <td>-0.7840</td>\n",
              "      <td>0.04</td>\n",
              "      <td>NaN</td>\n",
              "      <td>0.87</td>\n",
              "      <td>0.030</td>\n",
              "      <td>-0.0553</td>\n",
              "      <td>0.688500</td>\n",
              "      <td>0.87</td>\n",
              "      <td>-0.509</td>\n",
              "      <td>0.3836</td>\n",
              "    </tr>\n",
              "    <tr>\n",
              "      <th>2020-12-01</th>\n",
              "      <td>6.5250</td>\n",
              "      <td>103.24</td>\n",
              "      <td>1.2213</td>\n",
              "      <td>1.2730</td>\n",
              "      <td>0.7694</td>\n",
              "      <td>0.8851</td>\n",
              "      <td>1.3673</td>\n",
              "      <td>3473.07</td>\n",
              "      <td>3756.07</td>\n",
              "      <td>27444.17</td>\n",
              "      <td>3552.64</td>\n",
              "      <td>17433.36</td>\n",
              "      <td>6587.1</td>\n",
              "      <td>10703.51</td>\n",
              "      <td>6460.52</td>\n",
              "      <td>1899.6</td>\n",
              "      <td>51.80</td>\n",
              "      <td>111.50</td>\n",
              "      <td>109.8968</td>\n",
              "      <td>101.1</td>\n",
              "      <td>105.97</td>\n",
              "      <td>108.5594</td>\n",
              "      <td>NaN</td>\n",
              "      <td>100.2407</td>\n",
              "      <td>109.4</td>\n",
              "      <td>2.9</td>\n",
              "      <td>0.17</td>\n",
              "      <td>-0.055</td>\n",
              "      <td>-0.5381</td>\n",
              "      <td>0.235101</td>\n",
              "      <td>0.02</td>\n",
              "      <td>-0.7638</td>\n",
              "      <td>0.03</td>\n",
              "      <td>NaN</td>\n",
              "      <td>0.93</td>\n",
              "      <td>0.020</td>\n",
              "      <td>-0.0915</td>\n",
              "      <td>0.730952</td>\n",
              "      <td>0.98</td>\n",
              "      <td>-0.525</td>\n",
              "      <td>0.3224</td>\n",
              "    </tr>\n",
              "    <tr>\n",
              "      <th>2021-01-01</th>\n",
              "      <td>6.4250</td>\n",
              "      <td>104.68</td>\n",
              "      <td>1.2136</td>\n",
              "      <td>1.2777</td>\n",
              "      <td>0.7642</td>\n",
              "      <td>0.8903</td>\n",
              "      <td>1.3702</td>\n",
              "      <td>3483.07</td>\n",
              "      <td>3714.24</td>\n",
              "      <td>27663.39</td>\n",
              "      <td>3481.44</td>\n",
              "      <td>17337.02</td>\n",
              "      <td>6607.4</td>\n",
              "      <td>10591.06</td>\n",
              "      <td>6407.46</td>\n",
              "      <td>1850.3</td>\n",
              "      <td>55.88</td>\n",
              "      <td>112.55</td>\n",
              "      <td>110.3642</td>\n",
              "      <td>101.6</td>\n",
              "      <td>106.27</td>\n",
              "      <td>109.1915</td>\n",
              "      <td>NaN</td>\n",
              "      <td>100.2961</td>\n",
              "      <td>109.3</td>\n",
              "      <td>2.9</td>\n",
              "      <td>0.14</td>\n",
              "      <td>-0.055</td>\n",
              "      <td>-0.5472</td>\n",
              "      <td>0.197896</td>\n",
              "      <td>0.01</td>\n",
              "      <td>-0.7600</td>\n",
              "      <td>0.03</td>\n",
              "      <td>NaN</td>\n",
              "      <td>1.08</td>\n",
              "      <td>0.055</td>\n",
              "      <td>-0.0636</td>\n",
              "      <td>0.805500</td>\n",
              "      <td>1.05</td>\n",
              "      <td>-0.450</td>\n",
              "      <td>0.3672</td>\n",
              "    </tr>\n",
              "    <tr>\n",
              "      <th>2021-02-01</th>\n",
              "      <td>6.4730</td>\n",
              "      <td>106.58</td>\n",
              "      <td>1.2074</td>\n",
              "      <td>1.2739</td>\n",
              "      <td>0.7705</td>\n",
              "      <td>0.9082</td>\n",
              "      <td>1.3932</td>\n",
              "      <td>3509.08</td>\n",
              "      <td>3811.15</td>\n",
              "      <td>28966.01</td>\n",
              "      <td>3636.44</td>\n",
              "      <td>18060.26</td>\n",
              "      <td>6673.3</td>\n",
              "      <td>10522.22</td>\n",
              "      <td>6483.43</td>\n",
              "      <td>1728.8</td>\n",
              "      <td>66.13</td>\n",
              "      <td>NaN</td>\n",
              "      <td>NaN</td>\n",
              "      <td>NaN</td>\n",
              "      <td>NaN</td>\n",
              "      <td>NaN</td>\n",
              "      <td>NaN</td>\n",
              "      <td>100.4610</td>\n",
              "      <td>NaN</td>\n",
              "      <td>NaN</td>\n",
              "      <td>0.11</td>\n",
              "      <td>NaN</td>\n",
              "      <td>-0.5417</td>\n",
              "      <td>0.178039</td>\n",
              "      <td>0.01</td>\n",
              "      <td>-0.7500</td>\n",
              "      <td>0.05</td>\n",
              "      <td>NaN</td>\n",
              "      <td>1.26</td>\n",
              "      <td>0.150</td>\n",
              "      <td>0.0668</td>\n",
              "      <td>1.099474</td>\n",
              "      <td>1.32</td>\n",
              "      <td>-0.230</td>\n",
              "      <td>NaN</td>\n",
              "    </tr>\n",
              "  </tbody>\n",
              "</table>\n",
              "</div>"
            ],
            "text/plain": [
              "            USD_CNY  USD_JPY  EUR_USD  ...  LTINT_AUS  LTINT_CHE  LTINT_GBR\n",
              "Date                                   ...                                 \n",
              "2020-10-01   6.6927   104.64   1.1647  ...       0.82     -0.518     0.3058\n",
              "2020-11-01   6.5789   104.27   1.1928  ...       0.87     -0.509     0.3836\n",
              "2020-12-01   6.5250   103.24   1.2213  ...       0.98     -0.525     0.3224\n",
              "2021-01-01   6.4250   104.68   1.2136  ...       1.05     -0.450     0.3672\n",
              "2021-02-01   6.4730   106.58   1.2074  ...       1.32     -0.230        NaN\n",
              "\n",
              "[5 rows x 41 columns]"
            ]
          },
          "metadata": {
            "tags": []
          },
          "execution_count": 87
        }
      ]
    },
    {
      "cell_type": "code",
      "metadata": {
        "id": "UmpeLfckqMwG",
        "colab": {
          "base_uri": "https://localhost:8080/"
        },
        "outputId": "cec2970d-8114-46ea-cfa4-2bdaf94d9e7c"
      },
      "source": [
        "results = smf.ols('EUR_USD.diff(1) ~  SP500.diff(1) + EuroStoxx50.diff(1) + GoldPrice.diff(1) + BrentOilFutures.diff(1) + CPI_USA.diff(1) + CPI_EU.diff(1) + STINT_USA.diff(1) + STINT_EA19.diff(1) + LTINT_USA.diff(1) + LTINT_EA19.diff(1)', data=df_all).fit()\n",
        "print(results.summary())\n",
        "\n",
        "results = smf.ols('EUR_USD ~  SP500 + EuroStoxx50 + GoldPrice + BrentOilFutures + CPI_USA + CPI_EU + STINT_USA + STINT_EA19 + LTINT_USA + LTINT_EA19', data=df_all).fit()\n",
        "print(results.summary())"
      ],
      "execution_count": null,
      "outputs": [
        {
          "output_type": "stream",
          "text": [
            "                            OLS Regression Results                            \n",
            "==============================================================================\n",
            "Dep. Variable:        EUR_USD.diff(1)   R-squared:                       0.294\n",
            "Model:                            OLS   Adj. R-squared:                  0.258\n",
            "Method:                 Least Squares   F-statistic:                     8.203\n",
            "Date:                Thu, 29 Apr 2021   Prob (F-statistic):           4.59e-11\n",
            "Time:                        19:10:40   Log-Likelihood:                 435.11\n",
            "No. Observations:                 208   AIC:                            -848.2\n",
            "Df Residuals:                     197   BIC:                            -811.5\n",
            "Df Model:                          10                                         \n",
            "Covariance Type:            nonrobust                                         \n",
            "===========================================================================================\n",
            "                              coef    std err          t      P>|t|      [0.025      0.975]\n",
            "-------------------------------------------------------------------------------------------\n",
            "Intercept                  -0.0029      0.003     -1.160      0.248      -0.008       0.002\n",
            "SP500.diff(1)            4.927e-05   4.15e-05      1.187      0.237   -3.26e-05       0.000\n",
            "EuroStoxx50.diff(1)      1.754e-05   2.21e-05      0.794      0.428    -2.6e-05    6.11e-05\n",
            "GoldPrice.diff(1)           0.0001   4.05e-05      3.450      0.001    5.98e-05       0.000\n",
            "BrentOilFutures.diff(1)     0.0018      0.000      4.020      0.000       0.001       0.003\n",
            "CPI_USA.diff(1)            -0.0018      0.007     -0.247      0.805      -0.016       0.013\n",
            "CPI_EU.diff(1)              0.0083      0.006      1.405      0.162      -0.003       0.020\n",
            "STINT_USA.diff(1)          -0.0038      0.012     -0.320      0.749      -0.027       0.020\n",
            "STINT_EA19.diff(1)         -0.0011      0.019     -0.059      0.953      -0.039       0.037\n",
            "LTINT_USA.diff(1)          -0.0282      0.015     -1.927      0.055      -0.057       0.001\n",
            "LTINT_EA19.diff(1)          0.0014      0.015      0.093      0.926      -0.028       0.031\n",
            "==============================================================================\n",
            "Omnibus:                        9.309   Durbin-Watson:                   2.047\n",
            "Prob(Omnibus):                  0.010   Jarque-Bera (JB):               15.006\n",
            "Skew:                          -0.224   Prob(JB):                     0.000552\n",
            "Kurtosis:                       4.237   Cond. No.                     1.68e+03\n",
            "==============================================================================\n",
            "\n",
            "Warnings:\n",
            "[1] Standard Errors assume that the covariance matrix of the errors is correctly specified.\n",
            "[2] The condition number is large, 1.68e+03. This might indicate that there are\n",
            "strong multicollinearity or other numerical problems.\n",
            "                            OLS Regression Results                            \n",
            "==============================================================================\n",
            "Dep. Variable:                EUR_USD   R-squared:                       0.825\n",
            "Model:                            OLS   Adj. R-squared:                  0.817\n",
            "Method:                 Least Squares   F-statistic:                     93.66\n",
            "Date:                Thu, 29 Apr 2021   Prob (F-statistic):           1.80e-69\n",
            "Time:                        19:10:40   Log-Likelihood:                 325.41\n",
            "No. Observations:                 209   AIC:                            -628.8\n",
            "Df Residuals:                     198   BIC:                            -592.0\n",
            "Df Model:                          10                                         \n",
            "Covariance Type:            nonrobust                                         \n",
            "===================================================================================\n",
            "                      coef    std err          t      P>|t|      [0.025      0.975]\n",
            "-----------------------------------------------------------------------------------\n",
            "Intercept           1.2019      0.194      6.205      0.000       0.820       1.584\n",
            "SP500           -8.194e-06   2.04e-05     -0.401      0.689   -4.85e-05    3.21e-05\n",
            "EuroStoxx50      4.523e-05   1.56e-05      2.899      0.004    1.45e-05     7.6e-05\n",
            "GoldPrice       -5.885e-06   3.84e-05     -0.153      0.878   -8.15e-05    6.97e-05\n",
            "BrentOilFutures     0.0020      0.000      7.336      0.000       0.001       0.003\n",
            "CPI_USA             0.0281      0.007      4.257      0.000       0.015       0.041\n",
            "CPI_EU             -0.0313      0.007     -4.216      0.000      -0.046      -0.017\n",
            "STINT_USA          -0.0319      0.006     -5.507      0.000      -0.043      -0.020\n",
            "STINT_EA19          0.0245      0.009      2.640      0.009       0.006       0.043\n",
            "LTINT_USA          -0.0137      0.018     -0.743      0.459      -0.050       0.023\n",
            "LTINT_EA19          0.0561      0.015      3.784      0.000       0.027       0.085\n",
            "==============================================================================\n",
            "Omnibus:                        6.036   Durbin-Watson:                   0.530\n",
            "Prob(Omnibus):                  0.049   Jarque-Bera (JB):                5.685\n",
            "Skew:                           0.373   Prob(JB):                       0.0583\n",
            "Kurtosis:                       3.309   Cond. No.                     2.06e+05\n",
            "==============================================================================\n",
            "\n",
            "Warnings:\n",
            "[1] Standard Errors assume that the covariance matrix of the errors is correctly specified.\n",
            "[2] The condition number is large, 2.06e+05. This might indicate that there are\n",
            "strong multicollinearity or other numerical problems.\n"
          ],
          "name": "stdout"
        }
      ]
    },
    {
      "cell_type": "code",
      "metadata": {
        "colab": {
          "base_uri": "https://localhost:8080/",
          "height": 334
        },
        "id": "bCdi7sTZqSbf",
        "scrolled": true,
        "outputId": "722c45c8-20ae-4d6d-c93f-f2dddb383a1c"
      },
      "source": [
        "plt.figure(figsize=(8,5))\n",
        "plt.plot(df_all[\"EUR_USD\"])\n",
        "plt.xlabel('Year')\n",
        "plt.ylabel('Index')\n",
        "plt.show()\n",
        "#plt.plot(df_all[\"SP500\"]/df_all[\"SP500\"][0])\n",
        "#plt.plot(df_all[\"EuroStoxx50\"]/df_all[\"EuroStoxx50\"][0])\n",
        "#plt.plot(df_all[\"BrentOilFutures\"]/df_all[\"BrentOilFutures\"][0])\n",
        "#plt.plot(df_all[\"CPI_USA\"]/df_all[\"CPI_USA\"][0])\n",
        "#plt.plot(df_all[\"GoldPrice\"]/df_all[\"GoldPrice\"][0])"
      ],
      "execution_count": null,
      "outputs": [
        {
          "output_type": "display_data",
          "data": {
            "image/png": "[encoded data removed]",
            "text/plain": [
              "<Figure size 576x360 with 1 Axes>"
            ]
          },
          "metadata": {
            "tags": [],
            "needs_background": "light"
          }
        }
      ]
    },
    {
      "cell_type": "code",
      "metadata": {
        "colab": {
          "base_uri": "https://localhost:8080/"
        },
        "id": "vaubBlgl0s2F",
        "scrolled": false,
        "outputId": "9f37c545-0fc2-4c48-dfd6-374135efe455"
      },
      "source": [
        "df_usdeu=df_all[['EUR_USD', 'SP500','EuroStoxx50','GoldPrice','BrentOilFutures', 'CPI_USA', 'CPI_EU', 'STINT_USA', 'STINT_EA19', 'LTINT_USA', 'LTINT_EA19']]\n",
        "\n",
        "#add 1st differenced data\n",
        "df_usdeu['EUR_USD_diff']=df_usdeu['EUR_USD'].diff(1)\n",
        "df_usdeu['SP500_diff']=df_usdeu['SP500'].diff(1)\n",
        "df_usdeu['EuroStoxx50_diff']=df_usdeu['EuroStoxx50'].diff(1)\n",
        "df_usdeu['GoldPrice_diff']=df_usdeu['GoldPrice'].diff(1)\n",
        "df_usdeu['BrentOilFutures_diff']=df_usdeu['BrentOilFutures'].diff(1)\n",
        "\n",
        "df_usdeu['CPI_USA_diff']=df_usdeu['CPI_USA'].diff(1)\n",
        "df_usdeu['CPI_EU_diff']=df_usdeu['CPI_EU'].diff(1)\n",
        "\n",
        "df_usdeu['STINT_USA_diff']=df_usdeu['STINT_USA'].diff(1)\n",
        "df_usdeu['STINT_EA19_diff']=df_usdeu['STINT_EA19'].diff(1)\n",
        "df_usdeu['STINT_USA_EA19']=df_usdeu['STINT_USA']-df_usdeu['STINT_EA19']\n",
        "df_usdeu['STINT_USA_EA19_diff']=df_usdeu['STINT_USA_diff']-df_usdeu['STINT_EA19_diff']\n",
        "\n",
        "df_usdeu['LTINT_USA_diff']=df_usdeu['LTINT_USA'].diff(1)\n",
        "df_usdeu['LTINT_EA19_diff']=df_usdeu['LTINT_EA19'].diff(1)\n",
        "df_usdeu['LTINT_USA_EA19']=df_usdeu['LTINT_USA']-df_usdeu['LTINT_EA19']\n",
        "df_usdeu['LTINT_USA_EA19_diff']=df_usdeu['LTINT_USA_diff']-df_usdeu['LTINT_EA19_diff']\n",
        "\n",
        "df_usdeu.dropna(inplace=True)\n",
        "print(df_usdeu.tail())\n",
        "#print(df_usdeu.iloc[:,0])\n",
        "\n",
        "results = smf.ols('EUR_USD ~   SP500 + EuroStoxx50 + BrentOilFutures + GoldPrice+ CPI_USA + CPI_EU + STINT_USA + STINT_EA19 + LTINT_USA + LTINT_EA19 + STINT_USA_EA19 + LTINT_USA_EA19', data=df_usdeu).fit()\n",
        "#results = smf.ols('EUR_USD ~   SP500_diff + EuroStoxx50_diff + BrentOilFutures_diff + GoldPrice_diff + CPI_USA_diff + CPI_EU_diff +  STINT_USA_EA19 + LTINT_USA_EA19', data=df_usdeu).fit()\n",
        "print(results.summary())"
      ],
      "execution_count": null,
      "outputs": [
        {
          "output_type": "stream",
          "text": [
            "            EUR_USD    SP500  ...  LTINT_USA_EA19  LTINT_USA_EA19_diff\n",
            "Date                          ...                                     \n",
            "2020-09-01   1.1718  3363.00  ...          0.5570               0.0675\n",
            "2020-10-01   1.1647  3269.96  ...          0.7895               0.2325\n",
            "2020-11-01   1.1928  3621.63  ...          0.9253               0.1358\n",
            "2020-12-01   1.2213  3756.07  ...          1.0215               0.0962\n",
            "2021-01-01   1.2136  3714.24  ...          1.1436               0.1221\n",
            "\n",
            "[5 rows x 26 columns]\n",
            "                            OLS Regression Results                            \n",
            "==============================================================================\n",
            "Dep. Variable:                EUR_USD   R-squared:                       0.827\n",
            "Model:                            OLS   Adj. R-squared:                  0.819\n",
            "Method:                 Least Squares   F-statistic:                     94.42\n",
            "Date:                Thu, 29 Apr 2021   Prob (F-statistic):           1.46e-69\n",
            "Time:                        19:10:40   Log-Likelihood:                 324.78\n",
            "No. Observations:                 208   AIC:                            -627.6\n",
            "Df Residuals:                     197   BIC:                            -590.9\n",
            "Df Model:                          10                                         \n",
            "Covariance Type:            nonrobust                                         \n",
            "===================================================================================\n",
            "                      coef    std err          t      P>|t|      [0.025      0.975]\n",
            "-----------------------------------------------------------------------------------\n",
            "Intercept           1.2258      0.193      6.338      0.000       0.844       1.607\n",
            "SP500           -5.222e-06   2.04e-05     -0.256      0.798   -4.55e-05     3.5e-05\n",
            "EuroStoxx50      4.199e-05   1.57e-05      2.683      0.008    1.11e-05    7.29e-05\n",
            "BrentOilFutures     0.0020      0.000      7.336      0.000       0.001       0.003\n",
            "GoldPrice       -3.934e-06   3.82e-05     -0.103      0.918   -7.93e-05    7.14e-05\n",
            "CPI_USA             0.0279      0.007      4.238      0.000       0.015       0.041\n",
            "CPI_EU             -0.0313      0.007     -4.234      0.000      -0.046      -0.017\n",
            "STINT_USA          -0.0133      0.003     -4.310      0.000      -0.019      -0.007\n",
            "STINT_EA19          0.0062      0.005      1.193      0.234      -0.004       0.016\n",
            "LTINT_USA           0.0106      0.009      1.166      0.245      -0.007       0.028\n",
            "LTINT_EA19          0.0326      0.006      5.033      0.000       0.020       0.045\n",
            "STINT_USA_EA19     -0.0195      0.005     -4.281      0.000      -0.028      -0.011\n",
            "LTINT_USA_EA19     -0.0221      0.010     -2.119      0.035      -0.043      -0.002\n",
            "==============================================================================\n",
            "Omnibus:                        5.484   Durbin-Watson:                   0.537\n",
            "Prob(Omnibus):                  0.064   Jarque-Bera (JB):                5.109\n",
            "Skew:                           0.357   Prob(JB):                       0.0777\n",
            "Kurtosis:                       3.283   Cond. No.                     3.04e+19\n",
            "==============================================================================\n",
            "\n",
            "Warnings:\n",
            "[1] Standard Errors assume that the covariance matrix of the errors is correctly specified.\n",
            "[2] The smallest eigenvalue is 3.35e-30. This might indicate that there are\n",
            "strong multicollinearity problems or that the design matrix is singular.\n"
          ],
          "name": "stdout"
        },
        {
          "output_type": "stream",
          "text": [
            "/usr/local/lib/python3.7/dist-packages/ipykernel_launcher.py:4: SettingWithCopyWarning: \n",
            "A value is trying to be set on a copy of a slice from a DataFrame.\n",
            "Try using .loc[row_indexer,col_indexer] = value instead\n",
            "\n",
            "See the caveats in the documentation: https://pandas.pydata.org/pandas-docs/stable/user_guide/indexing.html#returning-a-view-versus-a-copy\n",
            "  after removing the cwd from sys.path.\n",
            "/usr/local/lib/python3.7/dist-packages/ipykernel_launcher.py:5: SettingWithCopyWarning: \n",
            "A value is trying to be set on a copy of a slice from a DataFrame.\n",
            "Try using .loc[row_indexer,col_indexer] = value instead\n",
            "\n",
            "See the caveats in the documentation: https://pandas.pydata.org/pandas-docs/stable/user_guide/indexing.html#returning-a-view-versus-a-copy\n",
            "  \"\"\"\n",
            "/usr/local/lib/python3.7/dist-packages/ipykernel_launcher.py:6: SettingWithCopyWarning: \n",
            "A value is trying to be set on a copy of a slice from a DataFrame.\n",
            "Try using .loc[row_indexer,col_indexer] = value instead\n",
            "\n",
            "See the caveats in the documentation: https://pandas.pydata.org/pandas-docs/stable/user_guide/indexing.html#returning-a-view-versus-a-copy\n",
            "  \n",
            "/usr/local/lib/python3.7/dist-packages/ipykernel_launcher.py:7: SettingWithCopyWarning: \n",
            "A value is trying to be set on a copy of a slice from a DataFrame.\n",
            "Try using .loc[row_indexer,col_indexer] = value instead\n",
            "\n",
            "See the caveats in the documentation: https://pandas.pydata.org/pandas-docs/stable/user_guide/indexing.html#returning-a-view-versus-a-copy\n",
            "  import sys\n",
            "/usr/local/lib/python3.7/dist-packages/ipykernel_launcher.py:8: SettingWithCopyWarning: \n",
            "A value is trying to be set on a copy of a slice from a DataFrame.\n",
            "Try using .loc[row_indexer,col_indexer] = value instead\n",
            "\n",
            "See the caveats in the documentation: https://pandas.pydata.org/pandas-docs/stable/user_guide/indexing.html#returning-a-view-versus-a-copy\n",
            "  \n",
            "/usr/local/lib/python3.7/dist-packages/ipykernel_launcher.py:10: SettingWithCopyWarning: \n",
            "A value is trying to be set on a copy of a slice from a DataFrame.\n",
            "Try using .loc[row_indexer,col_indexer] = value instead\n",
            "\n",
            "See the caveats in the documentation: https://pandas.pydata.org/pandas-docs/stable/user_guide/indexing.html#returning-a-view-versus-a-copy\n",
            "  # Remove the CWD from sys.path while we load stuff.\n",
            "/usr/local/lib/python3.7/dist-packages/ipykernel_launcher.py:11: SettingWithCopyWarning: \n",
            "A value is trying to be set on a copy of a slice from a DataFrame.\n",
            "Try using .loc[row_indexer,col_indexer] = value instead\n",
            "\n",
            "See the caveats in the documentation: https://pandas.pydata.org/pandas-docs/stable/user_guide/indexing.html#returning-a-view-versus-a-copy\n",
            "  # This is added back by InteractiveShellApp.init_path()\n",
            "/usr/local/lib/python3.7/dist-packages/ipykernel_launcher.py:13: SettingWithCopyWarning: \n",
            "A value is trying to be set on a copy of a slice from a DataFrame.\n",
            "Try using .loc[row_indexer,col_indexer] = value instead\n",
            "\n",
            "See the caveats in the documentation: https://pandas.pydata.org/pandas-docs/stable/user_guide/indexing.html#returning-a-view-versus-a-copy\n",
            "  del sys.path[0]\n",
            "/usr/local/lib/python3.7/dist-packages/ipykernel_launcher.py:14: SettingWithCopyWarning: \n",
            "A value is trying to be set on a copy of a slice from a DataFrame.\n",
            "Try using .loc[row_indexer,col_indexer] = value instead\n",
            "\n",
            "See the caveats in the documentation: https://pandas.pydata.org/pandas-docs/stable/user_guide/indexing.html#returning-a-view-versus-a-copy\n",
            "  \n",
            "/usr/local/lib/python3.7/dist-packages/ipykernel_launcher.py:15: SettingWithCopyWarning: \n",
            "A value is trying to be set on a copy of a slice from a DataFrame.\n",
            "Try using .loc[row_indexer,col_indexer] = value instead\n",
            "\n",
            "See the caveats in the documentation: https://pandas.pydata.org/pandas-docs/stable/user_guide/indexing.html#returning-a-view-versus-a-copy\n",
            "  from ipykernel import kernelapp as app\n",
            "/usr/local/lib/python3.7/dist-packages/ipykernel_launcher.py:16: SettingWithCopyWarning: \n",
            "A value is trying to be set on a copy of a slice from a DataFrame.\n",
            "Try using .loc[row_indexer,col_indexer] = value instead\n",
            "\n",
            "See the caveats in the documentation: https://pandas.pydata.org/pandas-docs/stable/user_guide/indexing.html#returning-a-view-versus-a-copy\n",
            "  app.launch_new_instance()\n",
            "/usr/local/lib/python3.7/dist-packages/ipykernel_launcher.py:18: SettingWithCopyWarning: \n",
            "A value is trying to be set on a copy of a slice from a DataFrame.\n",
            "Try using .loc[row_indexer,col_indexer] = value instead\n",
            "\n",
            "See the caveats in the documentation: https://pandas.pydata.org/pandas-docs/stable/user_guide/indexing.html#returning-a-view-versus-a-copy\n",
            "/usr/local/lib/python3.7/dist-packages/ipykernel_launcher.py:19: SettingWithCopyWarning: \n",
            "A value is trying to be set on a copy of a slice from a DataFrame.\n",
            "Try using .loc[row_indexer,col_indexer] = value instead\n",
            "\n",
            "See the caveats in the documentation: https://pandas.pydata.org/pandas-docs/stable/user_guide/indexing.html#returning-a-view-versus-a-copy\n",
            "/usr/local/lib/python3.7/dist-packages/ipykernel_launcher.py:20: SettingWithCopyWarning: \n",
            "A value is trying to be set on a copy of a slice from a DataFrame.\n",
            "Try using .loc[row_indexer,col_indexer] = value instead\n",
            "\n",
            "See the caveats in the documentation: https://pandas.pydata.org/pandas-docs/stable/user_guide/indexing.html#returning-a-view-versus-a-copy\n",
            "/usr/local/lib/python3.7/dist-packages/ipykernel_launcher.py:21: SettingWithCopyWarning: \n",
            "A value is trying to be set on a copy of a slice from a DataFrame.\n",
            "Try using .loc[row_indexer,col_indexer] = value instead\n",
            "\n",
            "See the caveats in the documentation: https://pandas.pydata.org/pandas-docs/stable/user_guide/indexing.html#returning-a-view-versus-a-copy\n",
            "/usr/local/lib/python3.7/dist-packages/ipykernel_launcher.py:23: SettingWithCopyWarning: \n",
            "A value is trying to be set on a copy of a slice from a DataFrame\n",
            "\n",
            "See the caveats in the documentation: https://pandas.pydata.org/pandas-docs/stable/user_guide/indexing.html#returning-a-view-versus-a-copy\n"
          ],
          "name": "stderr"
        }
      ]
    },
    {
      "cell_type": "code",
      "metadata": {
        "scrolled": true,
        "id": "oCRnSrsIti2w",
        "colab": {
          "base_uri": "https://localhost:8080/"
        },
        "outputId": "3754e4f2-9f2a-4736-ee52-0aef3eca62a2"
      },
      "source": [
        "#test the stationarity of data using ADF test\n",
        "\n",
        "from statsmodels.tsa.stattools import adfuller\n",
        "for i in range(len(df_usdeu.columns)):\n",
        "  print(df_usdeu.columns[i])\n",
        "  result = adfuller(df_usdeu.iloc[:,i])\n",
        "  print('ADF Statistic: %f' % result[0])\n",
        "  print('p-value: %f' % result[1])\n",
        "\n",
        "#p-value < 0.1 meaning that it is stationary at 10% confidence level"
      ],
      "execution_count": null,
      "outputs": [
        {
          "output_type": "stream",
          "text": [
            "EUR_USD\n",
            "ADF Statistic: -1.161824\n",
            "p-value: 0.689799\n",
            "SP500\n",
            "ADF Statistic: 1.665970\n",
            "p-value: 0.998043\n",
            "EuroStoxx50\n",
            "ADF Statistic: -2.202281\n",
            "p-value: 0.205419\n",
            "GoldPrice\n",
            "ADF Statistic: -1.285797\n",
            "p-value: 0.635645\n",
            "BrentOilFutures\n",
            "ADF Statistic: -2.775751\n",
            "p-value: 0.061822\n",
            "CPI_USA\n",
            "ADF Statistic: -1.373729\n",
            "p-value: 0.594804\n",
            "CPI_EU\n",
            "ADF Statistic: -1.518814\n",
            "p-value: 0.524184\n",
            "STINT_USA\n",
            "ADF Statistic: -2.241063\n",
            "p-value: 0.191681\n",
            "STINT_EA19\n",
            "ADF Statistic: -1.096276\n",
            "p-value: 0.716555\n",
            "LTINT_USA\n",
            "ADF Statistic: -1.480270\n",
            "p-value: 0.543248\n",
            "LTINT_EA19\n",
            "ADF Statistic: -0.509790\n",
            "p-value: 0.890092\n",
            "EUR_USD_diff\n",
            "ADF Statistic: -5.712690\n",
            "p-value: 0.000001\n",
            "SP500_diff\n",
            "ADF Statistic: -4.372917\n",
            "p-value: 0.000331\n",
            "EuroStoxx50_diff\n",
            "ADF Statistic: -10.702166\n",
            "p-value: 0.000000\n",
            "GoldPrice_diff\n",
            "ADF Statistic: -3.557456\n",
            "p-value: 0.006628\n",
            "BrentOilFutures_diff\n",
            "ADF Statistic: -10.498521\n",
            "p-value: 0.000000\n",
            "CPI_USA_diff\n",
            "ADF Statistic: -7.394027\n",
            "p-value: 0.000000\n",
            "CPI_EU_diff\n",
            "ADF Statistic: -2.753616\n",
            "p-value: 0.065211\n",
            "STINT_USA_diff\n",
            "ADF Statistic: -2.518425\n",
            "p-value: 0.111055\n",
            "STINT_EA19_diff\n",
            "ADF Statistic: -3.811776\n",
            "p-value: 0.002789\n",
            "STINT_USA_EA19\n",
            "ADF Statistic: -2.529419\n",
            "p-value: 0.108479\n",
            "STINT_USA_EA19_diff\n",
            "ADF Statistic: -4.104961\n",
            "p-value: 0.000950\n",
            "LTINT_USA_diff\n",
            "ADF Statistic: -11.199510\n",
            "p-value: 0.000000\n",
            "LTINT_EA19_diff\n",
            "ADF Statistic: -12.237968\n",
            "p-value: 0.000000\n",
            "LTINT_USA_EA19\n",
            "ADF Statistic: -1.468804\n",
            "p-value: 0.548883\n",
            "LTINT_USA_EA19_diff\n",
            "ADF Statistic: -11.992679\n",
            "p-value: 0.000000\n"
          ],
          "name": "stdout"
        }
      ]
    },
    {
      "cell_type": "code",
      "metadata": {
        "scrolled": true,
        "id": "F_drfg9jti2x",
        "colab": {
          "base_uri": "https://localhost:8080/",
          "height": 327
        },
        "outputId": "1820276d-28bb-49f0-c44c-a9690a3100ad"
      },
      "source": [
        "# correlation matrix and heatmap\n",
        "corr_usdeu=df_usdeu.corr()\n",
        "#print(corr_usdeu)\n",
        "ax = sns.heatmap(\n",
        "    corr_usdeu, \n",
        "    vmin=-1, vmax=1, center=0,\n",
        "    cmap=\"coolwarm\",\n",
        "    square=True\n",
        ")\n",
        "ax.set_xticklabels(\n",
        "    ax.get_xticklabels(),\n",
        "    rotation=45,\n",
        "    horizontalalignment='right'\n",
        ");"
      ],
      "execution_count": null,
      "outputs": [
        {
          "output_type": "display_data",
          "data": {
            "image/png": "[encoded data removed]",
            "text/plain": [
              "<Figure size 432x288 with 2 Axes>"
            ]
          },
          "metadata": {
            "tags": [],
            "needs_background": "light"
          }
        }
      ]
    },
    {
      "cell_type": "code",
      "metadata": {
        "scrolled": false,
        "id": "Lcucg7Itti2x",
        "colab": {
          "base_uri": "https://localhost:8080/",
          "height": 707
        },
        "outputId": "94d8763e-8a59-4e94-bd9f-91bd633960fd"
      },
      "source": [
        "df_usdeu.dropna(inplace=True)\n",
        "usdeu_y=df_usdeu['EUR_USD']\n",
        "#usdeu_x=df_usdeu.drop('EUR_USD', axis=1)\n",
        "usdeu_x=df_usdeu[['SP500_diff','EuroStoxx50_diff','GoldPrice_diff','BrentOilFutures_diff','CPI_USA','CPI_EU','STINT_USA_EA19','LTINT_USA_EA19']]\n",
        "test_size=0.5\n",
        "usdeu_x_train, usdeu_x_test, usdeu_y_train, usdeu_y_test = train_test_split(usdeu_x, usdeu_y, test_size = test_size, shuffle=False )\n",
        "\n",
        "#print(len(usdeu_x_train))\n",
        "#print(len(usdeu_x_test))\n",
        "#print(len(usdeu_y_train))\n",
        "#print(len(usdeu_y_test))\n",
        "\n",
        "#train OLS \n",
        "from sklearn import svm\n",
        "from sklearn.svm import SVC\n",
        "\n",
        "clf = svm.SVR()\n",
        "clf.fit(usdeu_x_train, usdeu_y_train)\n",
        "print(\"SVR\")\n",
        "print(clf.predict(usdeu_x_test))\n",
        "print(\"Accuracy on training set: {:.2f}\".format(clf.score(usdeu_x_train, usdeu_y_train)))\n",
        "print(\"Accuracy on test set: {:.2f}\".format(clf.score(usdeu_x_test, usdeu_y_test)))\n",
        "pred_lin_0 = clf.predict(usdeu_x_test)\n",
        "pred_lin_0 = pd.Series(pred_lin_0,index=usdeu_y_test.index)\n",
        "\n",
        "#print(linReg.coef_)\n",
        "#print(linReg.intercept_)\n",
        "plt.plot(pred_lin_0)\n",
        "plt.plot(usdeu_y_test)\n",
        "plt.legend([\"pred\",\"actual\"])\n",
        "plt.show()\n",
        "\n",
        "#usdeu_x_train.to_excel(\"output1.xlsx\", sheet_name='usdeu_x_train')  "
      ],
      "execution_count": null,
      "outputs": [
        {
          "output_type": "stream",
          "text": [
            "/usr/local/lib/python3.7/dist-packages/ipykernel_launcher.py:1: SettingWithCopyWarning: \n",
            "A value is trying to be set on a copy of a slice from a DataFrame\n",
            "\n",
            "See the caveats in the documentation: https://pandas.pydata.org/pandas-docs/stable/user_guide/indexing.html#returning-a-view-versus-a-copy\n",
            "  \"\"\"Entry point for launching an IPython kernel.\n"
          ],
          "name": "stderr"
        },
        {
          "output_type": "stream",
          "text": [
            "SVR\n",
            "[1.35189597 1.37695824 1.37596353 1.42070155 1.35428691 1.3647797\n",
            " 1.37006905 1.39879447 1.40810118 1.40737427 1.40378692 1.39491337\n",
            " 1.3919955  1.35543771 1.41151585 1.413224   1.37818445 1.405498\n",
            " 1.40000613 1.37702108 1.3754471  1.39064347 1.39080772 1.40067112\n",
            " 1.43142211 1.38806954 1.40525314 1.36244779 1.41242352 1.36258608\n",
            " 1.42468431 1.2952911  1.46409981 1.33936422 1.41636117 1.40695007\n",
            " 1.37839747 1.42364086 1.39739623 1.36567985 1.38890979 1.375423\n",
            " 1.36369731 1.34965085 1.42330732 1.41751458 1.41793897 1.40369223\n",
            " 1.40938783 1.37976378 1.38647823 1.40141662 1.35825587 1.42496253\n",
            " 1.36933071 1.42284777 1.40860255 1.34609792 1.39883124 1.41264974\n",
            " 1.41439973 1.42562542 1.41975919 1.40084653 1.41172833 1.4267807\n",
            " 1.42637645 1.4090936  1.34735263 1.3936221  1.36513963 1.43331871\n",
            " 1.41987088 1.42532366 1.43739982 1.42111339 1.33301179 1.41877031\n",
            " 1.35107372 1.39601148 1.41299674 1.42509071 1.42093201 1.33251975\n",
            " 1.36623471 1.43713746 1.43008509 1.4258689  1.4429676  1.44316871\n",
            " 1.44832829 1.42244904 1.35790103 1.39947731 1.37988793 1.41599193\n",
            " 1.36775245 1.41933387 1.41745379 1.37549999 1.34846216 1.38627979\n",
            " 1.43994627 1.42123267]\n",
            "Accuracy on training set: 0.33\n",
            "Accuracy on test set: -5.02\n"
          ],
          "name": "stdout"
        },
        {
          "output_type": "display_data",
          "data": {
            "image/png": "[encoded data removed]",
            "text/plain": [
              "<Figure size 432x288 with 1 Axes>"
            ]
          },
          "metadata": {
            "tags": [],
            "needs_background": "light"
          }
        }
      ]
    },
    {
      "cell_type": "code",
      "metadata": {
        "colab": {
          "base_uri": "https://localhost:8080/",
          "height": 352
        },
        "id": "MmOP1ZXPQD_a",
        "scrolled": true,
        "outputId": "75d6da7b-b91f-47cc-99ea-2443079b8caf"
      },
      "source": [
        "#one-step ahead predictions for recursive linear regression\n",
        "# y(t)= b*X(t-1)   X(t-1) includes exchange rates and other variables at time t-1\n",
        "\n",
        "from sklearn.ensemble import RandomForestRegressor\n",
        "import xgboost as xgb\n",
        "\n",
        "df_len=len(df_usdeu)\n",
        "#print(df_len)\n",
        "#print(len(usdeu_y))\n",
        "start_pred_pos = int(df_len*(1-test_size))\n",
        "#print(start_pred_pos)\n",
        "lin_preds_1=[]\n",
        "for i in range(start_pred_pos-1, df_len-1):\n",
        "  #print(i)\n",
        "  #print(df_usdeu[:i])\n",
        "  #print(usdeu_y[1:i+1])\n",
        "\n",
        "  #linReg = LinearRegression().fit(df_usdeu[:i], usdeu_y[1:i+1])\n",
        "  clf = svm.SVR()\n",
        "  clf.fit(df_usdeu[:i], usdeu_y[1:i+1])\n",
        "\n",
        "  #linReg = xgb.XGBRegressor().fit(df_usdeu[:i], usdeu_y[1:i+1])\n",
        "  #linReg = RandomForestRegressor().fit(df_usdeu[:i], usdeu_y[1:i+1])\n",
        "  #print(df_usdeu[:i])\n",
        "  #print(len(df_usdeu[:i]))\n",
        "  lin_pred = clf.predict(df_usdeu[i:i+1])\n",
        "  #print(\"pred: \", lin_pred)\n",
        "  lin_preds_1.append(lin_pred[0])\n",
        "lin_preds_1=pd.Series(lin_preds_1,index=usdeu_y_test.index)\n",
        "#print(len(lin_preds_1))\n",
        "#print(len(usdeu_y_test))\n",
        "#print(lin_preds_1)\n",
        "#print(usdeu_y_test[-3:])\n",
        "plt.plot(lin_preds_1)\n",
        "plt.plot(usdeu_y_test)\n",
        "plt.legend([\"SVM pred\",\"actual\"])\n",
        "plt.show()\n",
        "errors=lin_preds_1-usdeu_y_test\n",
        "AE=abs(errors)\n",
        "\n",
        "print('MAE:', metrics.mean_absolute_error(usdeu_y_test, lin_preds_1))\n",
        "print('MSE:', metrics.mean_squared_error(usdeu_y_test, lin_preds_1))\n",
        "print('RMSE:', np.sqrt(metrics.mean_squared_error(usdeu_y_test, lin_preds_1)))\n",
        "print ('R-squared: ',metrics.r2_score(usdeu_y_test, lin_preds_1)) \n",
        "\n",
        "# Calculate mean absolute percentage error (MAPE)\n",
        "mape = 100 * (AE / usdeu_y_test)\n",
        "# Calculate and display accuracy\n",
        "accuracy = 100 - np.mean(mape)\n",
        "print('Accuracy:', np.round(accuracy, 2), '%.')"
      ],
      "execution_count": null,
      "outputs": [
        {
          "output_type": "display_data",
          "data": {
            "image/png": "[encoded data removed]",
            "text/plain": [
              "<Figure size 432x288 with 1 Axes>"
            ]
          },
          "metadata": {
            "tags": [],
            "needs_background": "light"
          }
        },
        {
          "output_type": "stream",
          "text": [
            "MAE: 0.06935489857926447\n",
            "MSE: 0.007103608234869654\n",
            "RMSE: 0.08428290594699292\n",
            "R-squared:  0.21138186822555494\n",
            "Accuracy: 94.03 %.\n"
          ],
          "name": "stdout"
        }
      ]
    },
    {
      "cell_type": "code",
      "metadata": {
        "id": "dx9tolQati20",
        "colab": {
          "base_uri": "https://localhost:8080/",
          "height": 352
        },
        "outputId": "6f816712-0af5-4c0e-a52c-6c14cbb80182"
      },
      "source": [
        "#random walk model without drift\n",
        "eurusd_pred_rw = df_usdeu[\"EUR_USD\"].shift(1)\n",
        "errors_rw = eurusd_pred_rw[start_pred_pos:] - df_usdeu[\"EUR_USD\"][start_pred_pos:]\n",
        "plt.plot(eurusd_pred_rw[start_pred_pos:])\n",
        "plt.plot(df_usdeu[\"EUR_USD\"][start_pred_pos:])\n",
        "plt.legend([\"random walk\",\"actual\"]) \n",
        "#print(errors_rw)\n",
        "\n",
        "AE_rw=abs(errors_rw)\n",
        "\n",
        "print('MAE:', metrics.mean_absolute_error(df_usdeu[\"EUR_USD\"][start_pred_pos:], eurusd_pred_rw[start_pred_pos:]))\n",
        "print('MSE:', metrics.mean_squared_error(df_usdeu[\"EUR_USD\"][start_pred_pos:], eurusd_pred_rw[start_pred_pos:]))\n",
        "print('RMSE:', np.sqrt(metrics.mean_squared_error(df_usdeu[\"EUR_USD\"][start_pred_pos:], eurusd_pred_rw[start_pred_pos:])))\n",
        "print ('R-squared: ',metrics.r2_score(df_usdeu[\"EUR_USD\"][start_pred_pos:], eurusd_pred_rw[start_pred_pos:])) \n",
        "\n",
        "# Calculate mean absolute percentage error (MAPE)\n",
        "mape_rw = 100 * (AE_rw / df_usdeu[\"EUR_USD\"][start_pred_pos:])\n",
        "# Calculate and display accuracy\n",
        "accuracy_rw = 100 - np.mean(mape_rw)\n",
        "print('Accuracy:', np.round(accuracy_rw, 2), '%.')"
      ],
      "execution_count": null,
      "outputs": [
        {
          "output_type": "stream",
          "text": [
            "MAE: 0.019536538461538466\n",
            "MSE: 0.0006113505769230772\n",
            "RMSE: 0.02472550458379115\n",
            "R-squared:  0.9321299635492704\n",
            "Accuracy: 98.35 %.\n"
          ],
          "name": "stdout"
        },
        {
          "output_type": "display_data",
          "data": {
            "image/png": "[encoded data removed]",
            "text/plain": [
              "<Figure size 432x288 with 1 Axes>"
            ]
          },
          "metadata": {
            "tags": [],
            "needs_background": "light"
          }
        }
      ]
    },
    {
      "cell_type": "code",
      "metadata": {
        "colab": {
          "base_uri": "https://localhost:8080/"
        },
        "id": "FKQKN-tQZ21I",
        "outputId": "187e461b-4d62-4a7f-ea3b-6c20f7110277"
      },
      "source": [
        "#DM tests\n",
        "from dm_test import dm_test\n",
        "rt = dm_test(pd.to_numeric(usdeu_y_test),pd.to_numeric(eurusd_pred_rw[start_pred_pos:]),pd.to_numeric(lin_preds_1), h = 1, crit=\"MSE\")\n",
        "print(rt)\n",
        "#p-vale<0.1 meaning that the linear predictions are statiscally different from those of random walk . \n"
      ],
      "execution_count": null,
      "outputs": [
        {
          "output_type": "stream",
          "text": [
            "dm_return(DM=-7.838748421017525, p_value=4.3398081381921094e-12)\n"
          ],
          "name": "stdout"
        }
      ]
    },
    {
      "cell_type": "code",
      "metadata": {
        "colab": {
          "base_uri": "https://localhost:8080/"
        },
        "id": "e0N5Z7hE7P_8",
        "outputId": "efa19e92-2278-4e7b-8702-757b94523c61"
      },
      "source": [
        "Pred_GoingUp=lin_preds_1>df_usdeu[\"EUR_USD\"][start_pred_pos-1:].shift(1)[1:]*(1.002)\n",
        "actual_GoingUP=usdeu_y_test>df_usdeu[\"EUR_USD\"][start_pred_pos-1:].shift(1)[1:]\n",
        "print(\"going up or down accuracy: \",(Pred_GoingUp==actual_GoingUP).mean())\n",
        "print(\"proportion of days of going up: \",actual_GoingUP.mean())\n",
        "\n",
        "from dateutil.relativedelta import relativedelta\n",
        "\n",
        "#print(df_usdeu[\"EUR_USD\"][start_pred_pos-1:].shift(1)[1:])\n",
        "#print(Pred_GoingUp)\n",
        "#print(actual_GoingUP)\n",
        "#print(len(Pred_GoingUp))\n",
        "#print(len(lin_preds_1))\n",
        "#print(usdeu_y_test.shift(1))\n",
        "print(usdeu_y_test)\n",
        "#print(lin_preds_1)"
      ],
      "execution_count": null,
      "outputs": [
        {
          "output_type": "stream",
          "text": [
            "going up or down accuracy:  0.5192307692307693\n",
            "proportion of days of going up:  0.49038461538461536\n",
            "Date\n",
            "2012-06-01    1.2660\n",
            "2012-07-01    1.2304\n",
            "2012-08-01    1.2577\n",
            "2012-09-01    1.2858\n",
            "2012-10-01    1.2960\n",
            "               ...  \n",
            "2020-09-01    1.1718\n",
            "2020-10-01    1.1647\n",
            "2020-11-01    1.1928\n",
            "2020-12-01    1.2213\n",
            "2021-01-01    1.2136\n",
            "Name: EUR_USD, Length: 104, dtype: float64\n"
          ],
          "name": "stdout"
        }
      ]
    },
    {
      "cell_type": "code",
      "metadata": {
        "id": "35OAsDZ9xT5o",
        "colab": {
          "base_uri": "https://localhost:8080/"
        },
        "outputId": "526f75ff-8b1a-48ff-de25-b7be02b516e6"
      },
      "source": [
        "usdeu_y_test"
      ],
      "execution_count": null,
      "outputs": [
        {
          "output_type": "execute_result",
          "data": {
            "text/plain": [
              "Date\n",
              "2012-06-01    1.2660\n",
              "2012-07-01    1.2304\n",
              "2012-08-01    1.2577\n",
              "2012-09-01    1.2858\n",
              "2012-10-01    1.2960\n",
              "               ...  \n",
              "2020-09-01    1.1718\n",
              "2020-10-01    1.1647\n",
              "2020-11-01    1.1928\n",
              "2020-12-01    1.2213\n",
              "2021-01-01    1.2136\n",
              "Name: EUR_USD, Length: 104, dtype: float64"
            ]
          },
          "metadata": {
            "tags": []
          },
          "execution_count": 98
        }
      ]
    },
    {
      "cell_type": "code",
      "metadata": {
        "id": "HRhpJ9zTvJQD"
      },
      "source": [
        "#usdeu_y_test = usdeu_y_test.to_numpy()\n",
        "#usdeu_y_test"
      ],
      "execution_count": null,
      "outputs": []
    },
    {
      "cell_type": "code",
      "metadata": {
        "colab": {
          "base_uri": "https://localhost:8080/",
          "height": 569
        },
        "id": "mYcu8AEkkHDb",
        "outputId": "1b3966c0-7cf4-408e-a5b8-0f843b621628"
      },
      "source": [
        "#construct an investment portfolio\n",
        "#long a contract if the price is predicted to go up\n",
        "#short a contract if the price is predicted to go down\n",
        "\n",
        "from dateutil.relativedelta import relativedelta\n",
        "\n",
        "cost_ratio=0.002  # 0.002 means 0.2% transaction cost\n",
        "profits=[]\n",
        "buy_signal=[]\n",
        "sell_signal=[]\n",
        "#signals=[]\n",
        "buy_prices=[]\n",
        "sell_prices=[]\n",
        "\n",
        "#initial condition\n",
        "if Pred_GoingUp[0]==1:\n",
        "  buy_signal.append(Pred_GoingUp.index[0]-relativedelta(months=1))\n",
        "  #signals.append(1)\n",
        "  buy_price=df_usdeu[\"EUR_USD\"][buy_signal[-1]]\n",
        "  buy_prices.append(buy_price)\n",
        "  #print(buy_price)\n",
        "if Pred_GoingUp[0]==0:\n",
        "  sell_signal.append(Pred_GoingUp.index[0]-relativedelta(months=1))\n",
        "  #signals.append(-1)\n",
        "  sell_price=df_usdeu[\"EUR_USD\"][sell_signal[-1]]\n",
        "  sell_prices.append(sell_price)\n",
        "  #print(sell_price)\n",
        "\n",
        "profits.append(0)\n",
        "\n",
        "#after the initial value\n",
        "for i in range(1,len(Pred_GoingUp)):\n",
        "  #long\n",
        "  if Pred_GoingUp[i-1]==0 and Pred_GoingUp[i]==1 :\n",
        "    buy_signal.append(Pred_GoingUp.index[i-1])\n",
        "    #signals.append(1)\n",
        "    buy_price=df_usdeu[\"EUR_USD\"][buy_signal[-1]]\n",
        "    buy_prices.append(buy_price)\n",
        "    profits.append((df_usdeu[\"EUR_USD\"][Pred_GoingUp.index[i-2]]-df_usdeu[\"EUR_USD\"][Pred_GoingUp.index[i-1]])*(1-2*cost_ratio))\n",
        "  #short  \n",
        "  if Pred_GoingUp[i-1]==1 and Pred_GoingUp[i]==0 :\n",
        "    sell_signal.append(Pred_GoingUp.index[i-1])\n",
        "    #signals.append(-1)\n",
        "    sell_price=df_usdeu[\"EUR_USD\"][sell_signal[-1]]\n",
        "    sell_prices.append(sell_price)\n",
        "    profits.append((df_usdeu[\"EUR_USD\"][Pred_GoingUp.index[i-1]]-df_usdeu[\"EUR_USD\"][Pred_GoingUp.index[i-2]])*(1-2*cost_ratio))\n",
        "    \n",
        "  #hold  \n",
        "  if (Pred_GoingUp[i-1]==1 and Pred_GoingUp[i]==1):\n",
        "    #signals.append(0)\n",
        "    profits.append(df_usdeu[\"EUR_USD\"][Pred_GoingUp.index[i-1]]-df_usdeu[\"EUR_USD\"][Pred_GoingUp.index[i-2]])\n",
        "\n",
        "  if (Pred_GoingUp[i-1]==0 and Pred_GoingUp[i]==0):\n",
        "    #signals.append(0)\n",
        "    profits.append(df_usdeu[\"EUR_USD\"][Pred_GoingUp.index[i-2]]-df_usdeu[\"EUR_USD\"][Pred_GoingUp.index[i-1]])\n",
        "\n",
        "\n",
        "cum_profits=np.cumsum(profits)\n",
        "cum_profits=pd.Series(cum_profits,index=df_usdeu[\"EUR_USD\"][start_pred_pos-1:-1].index)\n",
        "\n",
        "#print(buy_signal)\n",
        "#print(sell_signal)\n",
        "#print(Pred_GoingUp)\n",
        "#print(df_usdeu[\"EUR_USD\"][start_pred_pos-1:-1])\n",
        "\n",
        "#to delete 2012-05-01 data\n",
        "buy_signal.pop(0)\n",
        "\n",
        "plt.plot(df_usdeu[\"EUR_USD\"][start_pred_pos-1:-1].index,usdeu_y_test.values)\n",
        "plt.legend([\"USD/EUR\"],bbox_to_anchor =(0.6, 1.15), ncol = 2)\n",
        "plt.plot(buy_signal,usdeu_y_test[buy_signal],'^', markersize=5, color='g')\n",
        "plt.plot(sell_signal,df_usdeu[\"EUR_USD\"][start_pred_pos-1:-1][sell_signal],'v', markersize=5, color='r')\n",
        "plt.show()\n",
        "\n",
        "\n",
        "plt.plot(df_usdeu[\"EUR_USD\"][start_pred_pos-1:-1].index,cum_profits.values)\n",
        "plt.legend([\"cumulative profits\"],bbox_to_anchor =(0.7, 1.15), ncol = 2)\n",
        "plt.show()\n",
        "\n",
        "#print(len(profits))\n",
        "#signals=pd.Series(signals,index=usdeu_y_test.index)\n",
        "#print(len(signals))\n",
        "#print(cum_profits)\n",
        "\n",
        "\n",
        "\n",
        "\n",
        "\n"
      ],
      "execution_count": null,
      "outputs": [
        {
          "output_type": "display_data",
          "data": {
            "image/png": "[encoded data removed]",
            "text/plain": [
              "<Figure size 432x288 with 1 Axes>"
            ]
          },
          "metadata": {
            "tags": [],
            "needs_background": "light"
          }
        },
        {
          "output_type": "display_data",
          "data": {
            "image/png": "[encoded data removed]",
            "text/plain": [
              "<Figure size 432x288 with 1 Axes>"
            ]
          },
          "metadata": {
            "tags": [],
            "needs_background": "light"
          }
        }
      ]
    }
  ]
}